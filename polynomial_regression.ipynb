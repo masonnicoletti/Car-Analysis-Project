{
  "cells": [
    {
      "cell_type": "markdown",
      "metadata": {
        "id": "aIxXsLdQ7CAE"
      },
      "source": [
        "# Polynomial Regression"
      ]
    },
    {
      "cell_type": "code",
      "execution_count": 1,
      "metadata": {
        "colab": {
          "base_uri": "https://localhost:8080/",
          "height": 378
        },
        "id": "zqosxq0v7CAH",
        "outputId": "8d324f7d-a976-477a-93fd-af4eca139a2c"
      },
      "outputs": [],
      "source": [
        "# Imports\n",
        "import pandas as pd\n",
        "from data_cleaning import clean_car_data\n",
        "from sklearn.model_selection import train_test_split\n",
        "from sklearn.linear_model import LinearRegression\n",
        "from sklearn.preprocessing import MinMaxScaler\n",
        "from sklearn.preprocessing import PolynomialFeatures\n",
        "from sklearn.metrics import mean_squared_error, r2_score"
      ]
    },
    {
      "cell_type": "code",
      "execution_count": 2,
      "metadata": {
        "id": "Bz-SyzIb7CAI"
      },
      "outputs": [],
      "source": [
        "# Load the Data\n",
        "cars_raw = pd.read_csv(\"USA_cars_datasets.csv\")"
      ]
    },
    {
      "cell_type": "code",
      "execution_count": 4,
      "metadata": {
        "id": "0LBQBeLh7CAJ"
      },
      "outputs": [],
      "source": [
        "# Clean the data\n",
        "cars = clean_car_data(cars_raw)"
      ]
    },
    {
      "cell_type": "code",
      "execution_count": 5,
      "metadata": {
        "id": "Neq8EY2M7CAJ"
      },
      "outputs": [],
      "source": [
        "# One-hot Encoding for categorical variables\n",
        "\n",
        "# Determine categorical columns\n",
        "category_columns = cars.select_dtypes('category').columns\n",
        "\n",
        "# Drop categorical columns\n",
        "cars = pd.get_dummies(cars, columns=category_columns, drop_first=True)"
      ]
    },
    {
      "cell_type": "code",
      "execution_count": 7,
      "metadata": {
        "id": "pMNHaEFs7CAK"
      },
      "outputs": [],
      "source": [
        "# Separate the features and target variable\n",
        "x = cars.drop(columns='price')\n",
        "y = cars['price']"
      ]
    },
    {
      "cell_type": "code",
      "execution_count": 8,
      "metadata": {
        "id": "LaZb-iJJ7CAK"
      },
      "outputs": [],
      "source": [
        "# Standardize the numeric variables\n",
        "scaler = MinMaxScaler()\n",
        "\n",
        "# Identify numeric columns\n",
        "number_columns = x.select_dtypes('number').columns\n",
        "\n",
        "# Standardize numeric features\n",
        "x[number_columns] = scaler.fit_transform(cars[number_columns])"
      ]
    },
    {
      "cell_type": "code",
      "execution_count": 9,
      "metadata": {
        "id": "-aUqlVIm7CAK"
      },
      "outputs": [],
      "source": [
        "# Partition the Data\n",
        "x_train, x_test, y_train, y_test = train_test_split(x, y, train_size=0.8, random_state=42)"
      ]
    },
    {
      "cell_type": "code",
      "execution_count": 11,
      "metadata": {
        "id": "Wjpu6Abh8KGl"
      },
      "outputs": [],
      "source": [
        "# Implement Polynomial Regression\n",
        "poly = PolynomialFeatures(degree=2)"
      ]
    },
    {
      "cell_type": "code",
      "execution_count": 12,
      "metadata": {
        "id": "wKOZwDnF8Pok"
      },
      "outputs": [],
      "source": [
        "# Transform training and testing features\n",
        "x_train_poly = poly.fit_transform(x_train)\n",
        "x_test_poly = poly.transform(x_test)"
      ]
    }
  ],
  "metadata": {
    "colab": {
      "provenance": []
    },
    "kernelspec": {
      "display_name": ".venv",
      "language": "python",
      "name": "python3"
    },
    "language_info": {
      "codemirror_mode": {
        "name": "ipython",
        "version": 3
      },
      "file_extension": ".py",
      "mimetype": "text/x-python",
      "name": "python",
      "nbconvert_exporter": "python",
      "pygments_lexer": "ipython3",
      "version": "3.13.0"
    }
  },
  "nbformat": 4,
  "nbformat_minor": 0
}
