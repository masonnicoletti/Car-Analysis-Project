{
  "cells": [
    {
      "cell_type": "markdown",
      "metadata": {
        "id": "aIxXsLdQ7CAE"
      },
      "source": [
        "# Polynomial Regression"
      ]
    },
    {
      "cell_type": "code",
      "execution_count": null,
      "metadata": {
        "id": "zqosxq0v7CAH"
      },
      "outputs": [],
      "source": [
        "# Imports\n",
        "import pandas as pd\n",
        "from data_cleaning import clean_car_data\n",
        "from sklearn.model_selection import train_test_split\n",
        "from sklearn.linear_model import LinearRegression\n",
        "from sklearn.preprocessing import MinMaxScaler\n",
        "from sklearn.preprocessing import PolynomialFeatures\n",
        "from sklearn.metrics import mean_squared_error, r2_score\n",
        "import matplotlib.pyplot as plt"
      ]
    },
    {
      "cell_type": "code",
      "execution_count": null,
      "metadata": {
        "id": "Bz-SyzIb7CAI"
      },
      "outputs": [],
      "source": [
        "# Load the Data\n",
        "cars_raw = pd.read_csv(\"USA_cars_datasets.csv\")"
      ]
    },
    {
      "cell_type": "code",
      "execution_count": null,
      "metadata": {
        "id": "0LBQBeLh7CAJ"
      },
      "outputs": [],
      "source": [
        "# Clean the data\n",
        "cars = clean_car_data(cars_raw)"
      ]
    },
    {
      "cell_type": "code",
      "execution_count": null,
      "metadata": {
        "id": "Neq8EY2M7CAJ"
      },
      "outputs": [],
      "source": [
        "# One-hot Encoding for categorical variables\n",
        "\n",
        "# Determine categorical columns\n",
        "category_columns = cars.select_dtypes('category').columns\n",
        "\n",
        "# Drop categorical columns\n",
        "cars = pd.get_dummies(cars, columns=category_columns, drop_first=True)"
      ]
    },
    {
      "cell_type": "code",
      "execution_count": null,
      "metadata": {
        "id": "pMNHaEFs7CAK"
      },
      "outputs": [],
      "source": [
        "# Separate the features and target variable\n",
        "x = cars.drop(columns='price')\n",
        "y = cars['price']"
      ]
    },
    {
      "cell_type": "code",
      "execution_count": null,
      "metadata": {
        "id": "LaZb-iJJ7CAK"
      },
      "outputs": [],
      "source": [
        "# Standardize the numeric variables\n",
        "scaler = MinMaxScaler()\n",
        "\n",
        "# Identify numeric columns\n",
        "number_columns = x.select_dtypes('number').columns\n",
        "\n",
        "# Standardize numeric features\n",
        "x[number_columns] = scaler.fit_transform(cars[number_columns])"
      ]
    },
    {
      "cell_type": "code",
      "execution_count": null,
      "metadata": {
        "id": "-aUqlVIm7CAK"
      },
      "outputs": [],
      "source": [
        "# Partition the Data\n",
        "x_train, x_test, y_train, y_test = train_test_split(x, y, train_size=0.8, random_state=42)"
      ]
    },
    {
      "cell_type": "code",
      "execution_count": null,
      "metadata": {
        "id": "Wjpu6Abh8KGl"
      },
      "outputs": [],
      "source": [
        "# Implement Polynomial Regression\n",
        "poly = PolynomialFeatures(degree=2)"
      ]
    },
    {
      "cell_type": "code",
      "execution_count": null,
      "metadata": {
        "id": "wKOZwDnF8Pok"
      },
      "outputs": [],
      "source": [
        "# Transform training and testing features\n",
        "x_train_poly = poly.fit_transform(x_train)\n",
        "x_test_poly = poly.transform(x_test)"
      ]
    },
    {
      "cell_type": "code",
      "source": [
        "# Lists to store errors\n",
        "R2_train_list = []\n",
        "RMSE_train_list = []\n",
        "R2_test_list = []\n",
        "RMSE_test_list = []\n",
        "\n",
        "degrees = [2, 3, 4, 5, 6, 7, 8, 9, 10]"
      ],
      "metadata": {
        "id": "yP1uKn7FIuDz"
      },
      "execution_count": null,
      "outputs": []
    },
    {
      "cell_type": "code",
      "source": [
        "for d in degrees:\n",
        "    # Create polynomial features\n",
        "    poly = PolynomialFeatures(degree=d)\n",
        "    x_train_poly = poly.fit_transform(x_train)\n",
        "    x_test_poly = poly.transform(x_test)\n",
        "\n",
        "    # Train model\n",
        "    model = LinearRegression()\n",
        "    model.fit(x_train_poly, y_train)\n",
        "\n",
        "    # Predictions\n",
        "    pred_train = model.predict(x_train_poly)\n",
        "    pred_test = model.predict(x_test_poly)\n",
        "\n",
        "    # Train errors\n",
        "    R2_train = r2_score(y_train, pred_train)\n",
        "    RMSE_train = mean_squared_error(y_train, pred_train) ** 0.5\n",
        "\n",
        "    # Test errors\n",
        "    R2_test = r2_score(y_test, pred_test)\n",
        "    RMSE_test = mean_squared_error(y_test, pred_test) ** 0.5\n",
        "\n",
        "    # Append to lists\n",
        "    R2_train_list.append(R2_train)\n",
        "    RMSE_train_list.append(RMSE_train)\n",
        "    R2_test_list.append(R2_test)\n",
        "    RMSE_test_list.append(RMSE_test)"
      ],
      "metadata": {
        "id": "sHpzfggdI0Ha"
      },
      "execution_count": null,
      "outputs": []
    },
    {
      "cell_type": "code",
      "source": [
        "# Plot R² Scores\n",
        "plt.figure(figsize=(10, 5))\n",
        "plt.plot(degrees, R2_train_list, label=\"Train R²\", marker='o')\n",
        "plt.plot(degrees, R2_test_list, label=\"Test R²\", marker='s')\n",
        "plt.xlabel(\"Polynomial Degree\")\n",
        "plt.ylabel(\"R² Score\")\n",
        "plt.title(\"Model Performance vs. Polynomial Degree\")\n",
        "plt.legend()\n",
        "plt.grid(True)\n",
        "plt.show()"
      ],
      "metadata": {
        "id": "pRPt4t6uI165"
      },
      "execution_count": null,
      "outputs": []
    },
    {
      "cell_type": "code",
      "source": [
        "# Plot RMSE\n",
        "plt.figure(figsize=(10, 5))\n",
        "plt.plot(degrees, RMSE_train_list, label=\"Train RMSE\", marker='o')\n",
        "plt.plot(degrees, RMSE_test_list, label=\"Test RMSE\", marker='s')\n",
        "plt.xlabel(\"Polynomial Degree\")\n",
        "plt.ylabel(\"RMSE\")\n",
        "plt.title(\"Root Mean Squared Error vs. Polynomial Degree\")\n",
        "plt.legend()\n",
        "plt.grid(True)\n",
        "plt.show()"
      ],
      "metadata": {
        "id": "CczaNNh3I5Uf"
      },
      "execution_count": null,
      "outputs": []
    }
  ],
  "metadata": {
    "colab": {
      "provenance": []
    },
    "kernelspec": {
      "display_name": ".venv",
      "language": "python",
      "name": "python3"
    },
    "language_info": {
      "codemirror_mode": {
        "name": "ipython",
        "version": 3
      },
      "file_extension": ".py",
      "mimetype": "text/x-python",
      "name": "python",
      "nbconvert_exporter": "python",
      "pygments_lexer": "ipython3",
      "version": "3.13.0"
    }
  },
  "nbformat": 4,
  "nbformat_minor": 0
}
