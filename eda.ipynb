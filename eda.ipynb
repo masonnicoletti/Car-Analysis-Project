{
  "cells": [
    {
      "cell_type": "markdown",
      "metadata": {
        "id": "BTHIp3o62i5p"
      },
      "source": [
        "# EDA"
      ]
    },
    {
      "cell_type": "code",
      "execution_count": 1,
      "metadata": {
        "id": "660Qhik-2i5r"
      },
      "outputs": [],
      "source": [
        "import pandas as pd\n",
        "import seaborn as sns\n",
        "import matplotlib.pyplot as plt\n",
        "import plotly.express as px"
      ]
    },
    {
      "cell_type": "code",
      "execution_count": 2,
      "metadata": {
        "id": "aLpg2Sql2i5w"
      },
      "outputs": [],
      "source": [
        "# Load Data\n",
        "cars = pd.read_csv(\"USA_cars_datasets.csv\")"
      ]
    },
    {
      "cell_type": "code",
      "execution_count": 3,
      "metadata": {
        "colab": {
          "base_uri": "https://localhost:8080/"
        },
        "id": "0CpbUyLv2i5x",
        "outputId": "f73f5d5d-8cc2-4a8a-d89b-1eba8203789f"
      },
      "outputs": [
        {
          "name": "stdout",
          "output_type": "stream",
          "text": [
            "<class 'pandas.core.frame.DataFrame'>\n",
            "RangeIndex: 2499 entries, 0 to 2498\n",
            "Data columns (total 13 columns):\n",
            " #   Column        Non-Null Count  Dtype \n",
            "---  ------        --------------  ----- \n",
            " 0   Unnamed: 0    2499 non-null   int64 \n",
            " 1   price         2499 non-null   int64 \n",
            " 2   brand         2499 non-null   object\n",
            " 3   model         2499 non-null   object\n",
            " 4   year          2499 non-null   int64 \n",
            " 5   title_status  2499 non-null   object\n",
            " 6   mileage       2499 non-null   int64 \n",
            " 7   color         2499 non-null   object\n",
            " 8   vin           2499 non-null   object\n",
            " 9   lot           2499 non-null   int64 \n",
            " 10  state         2499 non-null   object\n",
            " 11  country       2499 non-null   object\n",
            " 12  condition     2499 non-null   object\n",
            "dtypes: int64(5), object(8)\n",
            "memory usage: 253.9+ KB\n"
          ]
        }
      ],
      "source": [
        "# View dataset info\n",
        "cars.info()"
      ]
    },
    {
      "cell_type": "code",
      "execution_count": 4,
      "metadata": {
        "colab": {
          "base_uri": "https://localhost:8080/",
          "height": 486
        },
        "id": "CbtiTwch2i5x",
        "outputId": "ce17c60e-ba5e-4649-dedb-616d7ea3e41d"
      },
      "outputs": [
        {
          "data": {
            "text/plain": [
              "Unnamed: 0      0\n",
              "price           0\n",
              "brand           0\n",
              "model           0\n",
              "year            0\n",
              "title_status    0\n",
              "mileage         0\n",
              "color           0\n",
              "vin             0\n",
              "lot             0\n",
              "state           0\n",
              "country         0\n",
              "condition       0\n",
              "dtype: int64"
            ]
          },
          "execution_count": 4,
          "metadata": {},
          "output_type": "execute_result"
        }
      ],
      "source": [
        "# Check for NAs - there should be none based on the info above\n",
        "cars.isna().sum()"
      ]
    },
    {
      "cell_type": "code",
      "execution_count": 5,
      "metadata": {
        "colab": {
          "base_uri": "https://localhost:8080/",
          "height": 53
        },
        "id": "_OKsdktL2i5y",
        "outputId": "fb659d96-70c8-44d1-984b-e1d45398c750"
      },
      "outputs": [
        {
          "data": {
            "application/vnd.microsoft.datawrangler.viewer.v0+json": {
              "columns": [
                {
                  "name": "index",
                  "rawType": "int64",
                  "type": "integer"
                },
                {
                  "name": "Unnamed: 0",
                  "rawType": "int64",
                  "type": "integer"
                },
                {
                  "name": "price",
                  "rawType": "int64",
                  "type": "integer"
                },
                {
                  "name": "brand",
                  "rawType": "object",
                  "type": "string"
                },
                {
                  "name": "model",
                  "rawType": "object",
                  "type": "string"
                },
                {
                  "name": "year",
                  "rawType": "int64",
                  "type": "integer"
                },
                {
                  "name": "title_status",
                  "rawType": "object",
                  "type": "string"
                },
                {
                  "name": "mileage",
                  "rawType": "int64",
                  "type": "integer"
                },
                {
                  "name": "color",
                  "rawType": "object",
                  "type": "string"
                },
                {
                  "name": "vin",
                  "rawType": "object",
                  "type": "string"
                },
                {
                  "name": "lot",
                  "rawType": "int64",
                  "type": "integer"
                },
                {
                  "name": "state",
                  "rawType": "object",
                  "type": "string"
                },
                {
                  "name": "country",
                  "rawType": "object",
                  "type": "string"
                },
                {
                  "name": "condition",
                  "rawType": "object",
                  "type": "string"
                }
              ],
              "conversionMethod": "pd.DataFrame",
              "ref": "9f038711-f463-4779-8b45-8bacebead1fa",
              "rows": [],
              "shape": {
                "columns": 13,
                "rows": 0
              }
            },
            "text/html": [
              "<div>\n",
              "<style scoped>\n",
              "    .dataframe tbody tr th:only-of-type {\n",
              "        vertical-align: middle;\n",
              "    }\n",
              "\n",
              "    .dataframe tbody tr th {\n",
              "        vertical-align: top;\n",
              "    }\n",
              "\n",
              "    .dataframe thead th {\n",
              "        text-align: right;\n",
              "    }\n",
              "</style>\n",
              "<table border=\"1\" class=\"dataframe\">\n",
              "  <thead>\n",
              "    <tr style=\"text-align: right;\">\n",
              "      <th></th>\n",
              "      <th>Unnamed: 0</th>\n",
              "      <th>price</th>\n",
              "      <th>brand</th>\n",
              "      <th>model</th>\n",
              "      <th>year</th>\n",
              "      <th>title_status</th>\n",
              "      <th>mileage</th>\n",
              "      <th>color</th>\n",
              "      <th>vin</th>\n",
              "      <th>lot</th>\n",
              "      <th>state</th>\n",
              "      <th>country</th>\n",
              "      <th>condition</th>\n",
              "    </tr>\n",
              "  </thead>\n",
              "  <tbody>\n",
              "  </tbody>\n",
              "</table>\n",
              "</div>"
            ],
            "text/plain": [
              "Empty DataFrame\n",
              "Columns: [Unnamed: 0, price, brand, model, year, title_status, mileage, color, vin, lot, state, country, condition]\n",
              "Index: []"
            ]
          },
          "execution_count": 5,
          "metadata": {},
          "output_type": "execute_result"
        }
      ],
      "source": [
        "# Check for duplicate rows\n",
        "duplicates = cars.duplicated()\n",
        "cars[duplicates]"
      ]
    },
    {
      "cell_type": "code",
      "execution_count": 6,
      "metadata": {
        "colab": {
          "base_uri": "https://localhost:8080/",
          "height": 927
        },
        "id": "N7XKJo0R2i5y",
        "outputId": "dd8e8fd1-31fe-4b8f-f6b4-679c95a8c678"
      },
      "outputs": [
        {
          "data": {
            "image/png": "[encoded data removed]",
            "text/plain": [
              "<Figure size 640x480 with 1 Axes>"
            ]
          },
          "metadata": {},
          "output_type": "display_data"
        },
        {
          "data": {
            "image/png": "[encoded data removed]",
            "text/plain": [
              "<Figure size 640x480 with 1 Axes>"
            ]
          },
          "metadata": {},
          "output_type": "display_data"
        }
      ],
      "source": [
        "# Calculate the average price\n",
        "ave_price = cars['price'].mean().round(2)\n",
        "\n",
        "# Visualize the target variable: price\n",
        "sns.kdeplot(cars['price'], fill=True, color='green')\n",
        "plt.axvline(ave_price, label=f\"Average Price: ${ave_price}\", color='red', linestyle='--')\n",
        "plt.legend()\n",
        "plt.title(\"Price Distribution\")\n",
        "plt.show()\n",
        "\n",
        "# Visualize as a histogram\n",
        "sns.histplot(cars['price'], color='green')\n",
        "plt.title(\"Price Distribution\")\n",
        "plt.show()"
      ]
    },
    {
      "cell_type": "code",
      "execution_count": 7,
      "metadata": {
        "colab": {
          "base_uri": "https://localhost:8080/",
          "height": 443
        },
        "id": "TazdGGRh2i5y",
        "outputId": "c9da8eb7-4670-4b16-8b89-61f5db2cc3fc"
      },
      "outputs": [
        {
          "data": {
            "text/plain": [
              "<Axes: ylabel='mileage'>"
            ]
          },
          "execution_count": 7,
          "metadata": {},
          "output_type": "execute_result"
        },
        {
          "data": {
            "image/png": "[encoded data removed]",
            "text/plain": [
              "<Figure size 640x480 with 1 Axes>"
            ]
          },
          "metadata": {},
          "output_type": "display_data"
        }
      ],
      "source": [
        "# Boxplot of car mileage\n",
        "sns.boxplot(cars['mileage'], fill=True, color='pink')"
      ]
    },
    {
      "cell_type": "markdown",
      "metadata": {
        "id": "6-snBSKU2i5z"
      },
      "source": [
        "There are some very significant outliers in car mileage. It may be best to remove these outliers to manage the distribution."
      ]
    },
    {
      "cell_type": "code",
      "execution_count": 8,
      "metadata": {
        "colab": {
          "base_uri": "https://localhost:8080/",
          "height": 583
        },
        "id": "Im6i8spm2i5z",
        "outputId": "29fdef8f-9438-435c-ed8f-84da13be547d"
      },
      "outputs": [
        {
          "name": "stdout",
          "output_type": "stream",
          "text": [
            "Max Mileage: 1017936\n"
          ]
        },
        {
          "data": {
            "application/vnd.microsoft.datawrangler.viewer.v0+json": {
              "columns": [
                {
                  "name": "index",
                  "rawType": "int64",
                  "type": "integer"
                },
                {
                  "name": "Unnamed: 0",
                  "rawType": "int64",
                  "type": "integer"
                },
                {
                  "name": "price",
                  "rawType": "int64",
                  "type": "integer"
                },
                {
                  "name": "brand",
                  "rawType": "object",
                  "type": "string"
                },
                {
                  "name": "model",
                  "rawType": "object",
                  "type": "string"
                },
                {
                  "name": "year",
                  "rawType": "int64",
                  "type": "integer"
                },
                {
                  "name": "title_status",
                  "rawType": "object",
                  "type": "string"
                },
                {
                  "name": "mileage",
                  "rawType": "int64",
                  "type": "integer"
                },
                {
                  "name": "color",
                  "rawType": "object",
                  "type": "string"
                },
                {
                  "name": "vin",
                  "rawType": "object",
                  "type": "string"
                },
                {
                  "name": "lot",
                  "rawType": "int64",
                  "type": "integer"
                },
                {
                  "name": "state",
                  "rawType": "object",
                  "type": "string"
                },
                {
                  "name": "country",
                  "rawType": "object",
                  "type": "string"
                },
                {
                  "name": "condition",
                  "rawType": "object",
                  "type": "string"
                }
              ],
              "conversionMethod": "pd.DataFrame",
              "ref": "21c166a5-9652-4f4f-84f4-0523d00a3963",
              "rows": [
                [
                  "528",
                  "528",
                  "1025",
                  "peterbilt",
                  "truck",
                  "2010",
                  "salvage insurance",
                  "1017936",
                  "color:",
                  "  1xp7d49x0ad793710",
                  "167529842",
                  "georgia",
                  " usa",
                  "17 hours left"
                ],
                [
                  "1827",
                  "1827",
                  "3200",
                  "ford",
                  "door",
                  "2013",
                  "clean vehicle",
                  "999999",
                  "silver",
                  "  1fadp3k21dl266148",
                  "167727773",
                  "south carolina",
                  " usa",
                  "21 hours left"
                ],
                [
                  "516",
                  "516",
                  "0",
                  "peterbilt",
                  "truck",
                  "2009",
                  "salvage insurance",
                  "982486",
                  "blue",
                  "  1xp7d49x09d784257",
                  "167529788",
                  "florida",
                  " usa",
                  "17 hours left"
                ],
                [
                  "490",
                  "490",
                  "475",
                  "peterbilt",
                  "truck",
                  "2012",
                  "salvage insurance",
                  "902041",
                  "gold",
                  "  1xp4d49x9cd123630",
                  "167529786",
                  "florida",
                  " usa",
                  "17 hours left"
                ],
                [
                  "531",
                  "531",
                  "2000",
                  "chevrolet",
                  "pickup",
                  "2003",
                  "clean vehicle",
                  "507985",
                  "red",
                  "  1gcgc24u53z128586",
                  "167781223",
                  "wisconsin",
                  " usa",
                  "21 hours left"
                ],
                [
                  "1974",
                  "1974",
                  "2825",
                  "ford",
                  "door",
                  "2014",
                  "salvage insurance",
                  "363810",
                  "white",
                  "  1fmjk1g53eef23881",
                  "167555421",
                  "montana",
                  " usa",
                  "17 hours left"
                ],
                [
                  "311",
                  "311",
                  "7320",
                  "chevrolet",
                  "pickup",
                  "2008",
                  "clean vehicle",
                  "325611",
                  "silver",
                  "  1gchk23648f125262",
                  "167660581",
                  "florida",
                  " usa",
                  "22 hours left"
                ],
                [
                  "197",
                  "197",
                  "15700",
                  "ford",
                  "cab",
                  "2011",
                  "clean vehicle",
                  "309564",
                  "white",
                  "  1fduf5gt8bea80212",
                  "167756640",
                  "south carolina",
                  " usa",
                  "21 hours left"
                ],
                [
                  "367",
                  "367",
                  "2725",
                  "chevrolet",
                  "door",
                  "2004",
                  "salvage insurance",
                  "308451",
                  "black",
                  "  1gcjc33204f177273",
                  "167650940",
                  "south carolina",
                  " usa",
                  "2 days left"
                ],
                [
                  "395",
                  "395",
                  "25",
                  "ford",
                  "door",
                  "1998",
                  "salvage insurance",
                  "300021",
                  "brown",
                  "  1ftzx0766wka18481",
                  "167611660",
                  "arkansas",
                  " usa",
                  "17 hours left"
                ]
              ],
              "shape": {
                "columns": 13,
                "rows": 10
              }
            },
            "text/html": [
              "<div>\n",
              "<style scoped>\n",
              "    .dataframe tbody tr th:only-of-type {\n",
              "        vertical-align: middle;\n",
              "    }\n",
              "\n",
              "    .dataframe tbody tr th {\n",
              "        vertical-align: top;\n",
              "    }\n",
              "\n",
              "    .dataframe thead th {\n",
              "        text-align: right;\n",
              "    }\n",
              "</style>\n",
              "<table border=\"1\" class=\"dataframe\">\n",
              "  <thead>\n",
              "    <tr style=\"text-align: right;\">\n",
              "      <th></th>\n",
              "      <th>Unnamed: 0</th>\n",
              "      <th>price</th>\n",
              "      <th>brand</th>\n",
              "      <th>model</th>\n",
              "      <th>year</th>\n",
              "      <th>title_status</th>\n",
              "      <th>mileage</th>\n",
              "      <th>color</th>\n",
              "      <th>vin</th>\n",
              "      <th>lot</th>\n",
              "      <th>state</th>\n",
              "      <th>country</th>\n",
              "      <th>condition</th>\n",
              "    </tr>\n",
              "  </thead>\n",
              "  <tbody>\n",
              "    <tr>\n",
              "      <th>528</th>\n",
              "      <td>528</td>\n",
              "      <td>1025</td>\n",
              "      <td>peterbilt</td>\n",
              "      <td>truck</td>\n",
              "      <td>2010</td>\n",
              "      <td>salvage insurance</td>\n",
              "      <td>1017936</td>\n",
              "      <td>color:</td>\n",
              "      <td>1xp7d49x0ad793710</td>\n",
              "      <td>167529842</td>\n",
              "      <td>georgia</td>\n",
              "      <td>usa</td>\n",
              "      <td>17 hours left</td>\n",
              "    </tr>\n",
              "    <tr>\n",
              "      <th>1827</th>\n",
              "      <td>1827</td>\n",
              "      <td>3200</td>\n",
              "      <td>ford</td>\n",
              "      <td>door</td>\n",
              "      <td>2013</td>\n",
              "      <td>clean vehicle</td>\n",
              "      <td>999999</td>\n",
              "      <td>silver</td>\n",
              "      <td>1fadp3k21dl266148</td>\n",
              "      <td>167727773</td>\n",
              "      <td>south carolina</td>\n",
              "      <td>usa</td>\n",
              "      <td>21 hours left</td>\n",
              "    </tr>\n",
              "    <tr>\n",
              "      <th>516</th>\n",
              "      <td>516</td>\n",
              "      <td>0</td>\n",
              "      <td>peterbilt</td>\n",
              "      <td>truck</td>\n",
              "      <td>2009</td>\n",
              "      <td>salvage insurance</td>\n",
              "      <td>982486</td>\n",
              "      <td>blue</td>\n",
              "      <td>1xp7d49x09d784257</td>\n",
              "      <td>167529788</td>\n",
              "      <td>florida</td>\n",
              "      <td>usa</td>\n",
              "      <td>17 hours left</td>\n",
              "    </tr>\n",
              "    <tr>\n",
              "      <th>490</th>\n",
              "      <td>490</td>\n",
              "      <td>475</td>\n",
              "      <td>peterbilt</td>\n",
              "      <td>truck</td>\n",
              "      <td>2012</td>\n",
              "      <td>salvage insurance</td>\n",
              "      <td>902041</td>\n",
              "      <td>gold</td>\n",
              "      <td>1xp4d49x9cd123630</td>\n",
              "      <td>167529786</td>\n",
              "      <td>florida</td>\n",
              "      <td>usa</td>\n",
              "      <td>17 hours left</td>\n",
              "    </tr>\n",
              "    <tr>\n",
              "      <th>531</th>\n",
              "      <td>531</td>\n",
              "      <td>2000</td>\n",
              "      <td>chevrolet</td>\n",
              "      <td>pickup</td>\n",
              "      <td>2003</td>\n",
              "      <td>clean vehicle</td>\n",
              "      <td>507985</td>\n",
              "      <td>red</td>\n",
              "      <td>1gcgc24u53z128586</td>\n",
              "      <td>167781223</td>\n",
              "      <td>wisconsin</td>\n",
              "      <td>usa</td>\n",
              "      <td>21 hours left</td>\n",
              "    </tr>\n",
              "    <tr>\n",
              "      <th>1974</th>\n",
              "      <td>1974</td>\n",
              "      <td>2825</td>\n",
              "      <td>ford</td>\n",
              "      <td>door</td>\n",
              "      <td>2014</td>\n",
              "      <td>salvage insurance</td>\n",
              "      <td>363810</td>\n",
              "      <td>white</td>\n",
              "      <td>1fmjk1g53eef23881</td>\n",
              "      <td>167555421</td>\n",
              "      <td>montana</td>\n",
              "      <td>usa</td>\n",
              "      <td>17 hours left</td>\n",
              "    </tr>\n",
              "    <tr>\n",
              "      <th>311</th>\n",
              "      <td>311</td>\n",
              "      <td>7320</td>\n",
              "      <td>chevrolet</td>\n",
              "      <td>pickup</td>\n",
              "      <td>2008</td>\n",
              "      <td>clean vehicle</td>\n",
              "      <td>325611</td>\n",
              "      <td>silver</td>\n",
              "      <td>1gchk23648f125262</td>\n",
              "      <td>167660581</td>\n",
              "      <td>florida</td>\n",
              "      <td>usa</td>\n",
              "      <td>22 hours left</td>\n",
              "    </tr>\n",
              "    <tr>\n",
              "      <th>197</th>\n",
              "      <td>197</td>\n",
              "      <td>15700</td>\n",
              "      <td>ford</td>\n",
              "      <td>cab</td>\n",
              "      <td>2011</td>\n",
              "      <td>clean vehicle</td>\n",
              "      <td>309564</td>\n",
              "      <td>white</td>\n",
              "      <td>1fduf5gt8bea80212</td>\n",
              "      <td>167756640</td>\n",
              "      <td>south carolina</td>\n",
              "      <td>usa</td>\n",
              "      <td>21 hours left</td>\n",
              "    </tr>\n",
              "    <tr>\n",
              "      <th>367</th>\n",
              "      <td>367</td>\n",
              "      <td>2725</td>\n",
              "      <td>chevrolet</td>\n",
              "      <td>door</td>\n",
              "      <td>2004</td>\n",
              "      <td>salvage insurance</td>\n",
              "      <td>308451</td>\n",
              "      <td>black</td>\n",
              "      <td>1gcjc33204f177273</td>\n",
              "      <td>167650940</td>\n",
              "      <td>south carolina</td>\n",
              "      <td>usa</td>\n",
              "      <td>2 days left</td>\n",
              "    </tr>\n",
              "    <tr>\n",
              "      <th>395</th>\n",
              "      <td>395</td>\n",
              "      <td>25</td>\n",
              "      <td>ford</td>\n",
              "      <td>door</td>\n",
              "      <td>1998</td>\n",
              "      <td>salvage insurance</td>\n",
              "      <td>300021</td>\n",
              "      <td>brown</td>\n",
              "      <td>1ftzx0766wka18481</td>\n",
              "      <td>167611660</td>\n",
              "      <td>arkansas</td>\n",
              "      <td>usa</td>\n",
              "      <td>17 hours left</td>\n",
              "    </tr>\n",
              "  </tbody>\n",
              "</table>\n",
              "</div>"
            ],
            "text/plain": [
              "      Unnamed: 0  price      brand   model  year       title_status  mileage  \\\n",
              "528          528   1025  peterbilt   truck  2010  salvage insurance  1017936   \n",
              "1827        1827   3200       ford    door  2013      clean vehicle   999999   \n",
              "516          516      0  peterbilt   truck  2009  salvage insurance   982486   \n",
              "490          490    475  peterbilt   truck  2012  salvage insurance   902041   \n",
              "531          531   2000  chevrolet  pickup  2003      clean vehicle   507985   \n",
              "1974        1974   2825       ford    door  2014  salvage insurance   363810   \n",
              "311          311   7320  chevrolet  pickup  2008      clean vehicle   325611   \n",
              "197          197  15700       ford     cab  2011      clean vehicle   309564   \n",
              "367          367   2725  chevrolet    door  2004  salvage insurance   308451   \n",
              "395          395     25       ford    door  1998  salvage insurance   300021   \n",
              "\n",
              "       color                  vin        lot           state country  \\\n",
              "528   color:    1xp7d49x0ad793710  167529842         georgia     usa   \n",
              "1827  silver    1fadp3k21dl266148  167727773  south carolina     usa   \n",
              "516     blue    1xp7d49x09d784257  167529788         florida     usa   \n",
              "490     gold    1xp4d49x9cd123630  167529786         florida     usa   \n",
              "531      red    1gcgc24u53z128586  167781223       wisconsin     usa   \n",
              "1974   white    1fmjk1g53eef23881  167555421         montana     usa   \n",
              "311   silver    1gchk23648f125262  167660581         florida     usa   \n",
              "197    white    1fduf5gt8bea80212  167756640  south carolina     usa   \n",
              "367    black    1gcjc33204f177273  167650940  south carolina     usa   \n",
              "395    brown    1ftzx0766wka18481  167611660        arkansas     usa   \n",
              "\n",
              "          condition  \n",
              "528   17 hours left  \n",
              "1827  21 hours left  \n",
              "516   17 hours left  \n",
              "490   17 hours left  \n",
              "531   21 hours left  \n",
              "1974  17 hours left  \n",
              "311   22 hours left  \n",
              "197   21 hours left  \n",
              "367     2 days left  \n",
              "395   17 hours left  "
            ]
          },
          "execution_count": 8,
          "metadata": {},
          "output_type": "execute_result"
        }
      ],
      "source": [
        "# View the cars with the top miles\n",
        "max_mileage = cars['mileage'].max()\n",
        "print(\"Max Mileage:\", max_mileage)\n",
        "\n",
        "car_mileage = cars.sort_values(by='mileage', ascending=False)\n",
        "car_mileage.head(10)"
      ]
    },
    {
      "cell_type": "markdown",
      "metadata": {
        "id": "m494NOwx2i5z"
      },
      "source": [
        "There are 4 significant mileage outliers, and there is a less significant fifth outlier, that are strongly skewing the distribution. It may be best to remove these values."
      ]
    },
    {
      "cell_type": "code",
      "execution_count": 9,
      "metadata": {
        "id": "mIBvLu-b2i50"
      },
      "outputs": [],
      "source": [
        "# Remove the mileage outliers\n",
        "mileage_max = 500000\n",
        "cars2 = cars[cars['mileage'] <= mileage_max]"
      ]
    },
    {
      "cell_type": "code",
      "execution_count": 10,
      "metadata": {
        "colab": {
          "base_uri": "https://localhost:8080/",
          "height": 428
        },
        "id": "EIQ8FH5F2i50",
        "outputId": "1bb89735-be22-415c-d02a-b76a0f776bf7"
      },
      "outputs": [
        {
          "data": {
            "text/plain": [
              "<Axes: ylabel='mileage'>"
            ]
          },
          "execution_count": 10,
          "metadata": {},
          "output_type": "execute_result"
        },
        {
          "data": {
            "image/png": "[encoded data removed]",
            "text/plain": [
              "<Figure size 640x480 with 1 Axes>"
            ]
          },
          "metadata": {},
          "output_type": "display_data"
        }
      ],
      "source": [
        "# Recreate the boxplot based on mileage\n",
        "sns.boxplot(cars2['mileage'], fill=True, color='pink')"
      ]
    },
    {
      "cell_type": "markdown",
      "metadata": {
        "id": "ObycJxvM2i50"
      },
      "source": [
        "There are still many outliers, but the distribution is far more manageable."
      ]
    },
    {
      "cell_type": "code",
      "execution_count": 11,
      "metadata": {
        "colab": {
          "base_uri": "https://localhost:8080/",
          "height": 428
        },
        "id": "lRAtMVb82i51",
        "outputId": "a913f700-ff0d-4d4b-8902-004466e8cad9"
      },
      "outputs": [
        {
          "data": {
            "text/plain": [
              "<Axes: ylabel='mileage'>"
            ]
          },
          "execution_count": 11,
          "metadata": {},
          "output_type": "execute_result"
        },
        {
          "data": {
            "image/png": "[encoded data removed]",
            "text/plain": [
              "<Figure size 640x480 with 1 Axes>"
            ]
          },
          "metadata": {},
          "output_type": "display_data"
        }
      ],
      "source": [
        "# Create a data set that is even more condensed based on mileage\n",
        "mileage_max2 = 150000\n",
        "cars3 = cars[cars['mileage'] <= mileage_max2]\n",
        "\n",
        "# Recreate the boxplot with an even smaller mileage cutoff\n",
        "sns.boxplot(cars3['mileage'], fill=True, color='pink')"
      ]
    },
    {
      "cell_type": "code",
      "execution_count": 12,
      "metadata": {
        "colab": {
          "base_uri": "https://localhost:8080/",
          "height": 465
        },
        "id": "UIFNrXoV2i51",
        "outputId": "b6706ca0-4091-4d37-c667-864bd1217e04"
      },
      "outputs": [
        {
          "data": {
            "image/png": "[encoded data removed]",
            "text/plain": [
              "<Figure size 640x480 with 1 Axes>"
            ]
          },
          "metadata": {},
          "output_type": "display_data"
        }
      ],
      "source": [
        "# Plot price and mileage\n",
        "sns.kdeplot(cars['price'], label='Price', fill=True, color='green')\n",
        "sns.kdeplot(cars3['mileage'], label='Mileage', fill=True, color='pink')\n",
        "plt.legend()\n",
        "plt.show()"
      ]
    },
    {
      "cell_type": "code",
      "execution_count": 13,
      "metadata": {
        "colab": {
          "base_uri": "https://localhost:8080/"
        },
        "id": "CBKfipGM2i51",
        "outputId": "da3e01be-5fb7-4ca4-f5d3-99463af30bf0"
      },
      "outputs": [
        {
          "data": {
            "text/plain": [
              "Index(['Unnamed: 0', 'price', 'brand', 'model', 'year', 'title_status',\n",
              "       'mileage', 'color', 'vin', 'lot', 'state', 'country', 'condition'],\n",
              "      dtype='object')"
            ]
          },
          "execution_count": 13,
          "metadata": {},
          "output_type": "execute_result"
        }
      ],
      "source": [
        "cars.columns"
      ]
    },
    {
      "cell_type": "code",
      "execution_count": 14,
      "metadata": {
        "colab": {
          "base_uri": "https://localhost:8080/",
          "height": 176
        },
        "id": "udvxUY5U2i51",
        "outputId": "bbf164b3-1d18-4c62-c68a-96be25cd6d9e"
      },
      "outputs": [
        {
          "data": {
            "text/plain": [
              "country\n",
              "usa       2492\n",
              "canada       7\n",
              "Name: count, dtype: int64"
            ]
          },
          "execution_count": 14,
          "metadata": {},
          "output_type": "execute_result"
        }
      ],
      "source": [
        "# Look at what countries are represented in the data\n",
        "cars['country'].value_counts()"
      ]
    },
    {
      "cell_type": "code",
      "execution_count": 15,
      "metadata": {
        "colab": {
          "base_uri": "https://localhost:8080/",
          "height": 1000
        },
        "id": "kNRlv22U2i52",
        "outputId": "64a61b34-ef34-4658-fdaa-9802fe3a0ec4"
      },
      "outputs": [
        {
          "name": "stdout",
          "output_type": "stream",
          "text": [
            "There are 44 total states represented in the data.\n"
          ]
        },
        {
          "data": {
            "text/plain": [
              "state\n",
              "pennsylvania      299\n",
              "florida           246\n",
              "texas             214\n",
              "california        190\n",
              "michigan          169\n",
              "north carolina    146\n",
              "minnesota         119\n",
              "illinois          113\n",
              "wisconsin          94\n",
              "virginia           90\n",
              "new jersey         87\n",
              "nevada             85\n",
              "oklahoma           71\n",
              "south carolina     64\n",
              "new york           58\n",
              "georgia            51\n",
              "missouri           46\n",
              "arizona            33\n",
              "ohio               31\n",
              "massachusetts      27\n",
              "oregon             27\n",
              "tennessee          26\n",
              "connecticut        25\n",
              "mississippi        24\n",
              "colorado           21\n",
              "west virginia      21\n",
              "alabama            17\n",
              "washington         14\n",
              "indiana            14\n",
              "arkansas           12\n",
              "louisiana          11\n",
              "utah               10\n",
              "kentucky            9\n",
              "ontario             7\n",
              "kansas              4\n",
              "maryland            4\n",
              "nebraska            4\n",
              "new mexico          4\n",
              "new hampshire       4\n",
              "rhode island        2\n",
              "idaho               2\n",
              "vermont             2\n",
              "wyoming             1\n",
              "montana             1\n",
              "Name: count, dtype: int64"
            ]
          },
          "execution_count": 15,
          "metadata": {},
          "output_type": "execute_result"
        }
      ],
      "source": [
        "# Count the number of states in all\n",
        "n_states = cars['state'].nunique()\n",
        "print(f\"There are {n_states} total states represented in the data.\")\n",
        "\n",
        "# Look at the counts of represented states\n",
        "cars['state'].value_counts()"
      ]
    },
    {
      "cell_type": "markdown",
      "metadata": {
        "id": "fcm7XoP72i52"
      },
      "source": [
        "The majority of the cars in this data are from the United States, and there are only 7 entries from another country, which happens to be Canada. There is representation from a variety of states, although this representation is unequal."
      ]
    },
    {
      "cell_type": "code",
      "execution_count": 16,
      "metadata": {
        "colab": {
          "base_uri": "https://localhost:8080/",
          "height": 542
        },
        "id": "xsHqT_bN2i52",
        "outputId": "8b577f07-dd72-414b-8e70-323ab314aa45"
      },
      "outputs": [
        {
          "data": {
            "application/vnd.plotly.v1+json": {
              "config": {
                "plotlyServerURL": "https://plot.ly"
              },
              "data": [
                {
                  "coloraxis": "coloraxis",
                  "geo": "geo",
                  "hovertemplate": "state_abbr=%{location}<br>count=%{z}<extra></extra>",
                  "locationmode": "USA-states",
                  "locations": [
                    "AL",
                    "AZ",
                    "AR",
                    "CA",
                    "CO",
                    "CT",
                    "FL",
                    "GA",
                    "ID",
                    "IL",
                    "IN",
                    "KS",
                    "KY",
                    "LA",
                    "MD",
                    "MA",
                    "MI",
                    "MN",
                    "MS",
                    "MO",
                    "MT",
                    "NE",
                    "NV",
                    "NH",
                    "NJ",
                    "NM",
                    "NY",
                    "NC",
                    "OH",
                    "OK",
                    "OR",
                    "PA",
                    "RI",
                    "SC",
                    "TN",
                    "TX",
                    "UT",
                    "VT",
                    "VA",
                    "WA",
                    "WV",
                    "WI",
                    "WY"
                  ],
                  "name": "",
                  "type": "choropleth",
                  "z": {
                    "bdata": "EQAhAAwAvgAVABkA9gAzAAIAcQAOAAQACQALAAQAGwCpAHcAGAAuAAEABABVAAQAVwAEADoAkgAfAEcAGwArAQIAQAAaANYACgACAFoADgAVAF4AAQA=",
                    "dtype": "i2"
                  }
                }
              ],
              "layout": {
                "coloraxis": {
                  "colorbar": {
                    "title": {
                      "text": "count"
                    }
                  },
                  "colorscale": [
                    [
                      0,
                      "rgb(255,245,235)"
                    ],
                    [
                      0.125,
                      "rgb(254,230,206)"
                    ],
                    [
                      0.25,
                      "rgb(253,208,162)"
                    ],
                    [
                      0.375,
                      "rgb(253,174,107)"
                    ],
                    [
                      0.5,
                      "rgb(253,141,60)"
                    ],
                    [
                      0.625,
                      "rgb(241,105,19)"
                    ],
                    [
                      0.75,
                      "rgb(217,72,1)"
                    ],
                    [
                      0.875,
                      "rgb(166,54,3)"
                    ],
                    [
                      1,
                      "rgb(127,39,4)"
                    ]
                  ]
                },
                "geo": {
                  "center": {},
                  "domain": {
                    "x": [
                      0,
                      1
                    ],
                    "y": [
                      0,
                      1
                    ]
                  },
                  "scope": "usa"
                },
                "legend": {
                  "tracegroupgap": 0
                },
                "margin": {
                  "t": 60
                },
                "template": {
                  "data": {
                    "bar": [
                      {
                        "error_x": {
                          "color": "#2a3f5f"
                        },
                        "error_y": {
                          "color": "#2a3f5f"
                        },
                        "marker": {
                          "line": {
                            "color": "#E5ECF6",
                            "width": 0.5
                          },
                          "pattern": {
                            "fillmode": "overlay",
                            "size": 10,
                            "solidity": 0.2
                          }
                        },
                        "type": "bar"
                      }
                    ],
                    "barpolar": [
                      {
                        "marker": {
                          "line": {
                            "color": "#E5ECF6",
                            "width": 0.5
                          },
                          "pattern": {
                            "fillmode": "overlay",
                            "size": 10,
                            "solidity": 0.2
                          }
                        },
                        "type": "barpolar"
                      }
                    ],
                    "carpet": [
                      {
                        "aaxis": {
                          "endlinecolor": "#2a3f5f",
                          "gridcolor": "white",
                          "linecolor": "white",
                          "minorgridcolor": "white",
                          "startlinecolor": "#2a3f5f"
                        },
                        "baxis": {
                          "endlinecolor": "#2a3f5f",
                          "gridcolor": "white",
                          "linecolor": "white",
                          "minorgridcolor": "white",
                          "startlinecolor": "#2a3f5f"
                        },
                        "type": "carpet"
                      }
                    ],
                    "choropleth": [
                      {
                        "colorbar": {
                          "outlinewidth": 0,
                          "ticks": ""
                        },
                        "type": "choropleth"
                      }
                    ],
                    "contour": [
                      {
                        "colorbar": {
                          "outlinewidth": 0,
                          "ticks": ""
                        },
                        "colorscale": [
                          [
                            0,
                            "#0d0887"
                          ],
                          [
                            0.1111111111111111,
                            "#46039f"
                          ],
                          [
                            0.2222222222222222,
                            "#7201a8"
                          ],
                          [
                            0.3333333333333333,
                            "#9c179e"
                          ],
                          [
                            0.4444444444444444,
                            "#bd3786"
                          ],
                          [
                            0.5555555555555556,
                            "#d8576b"
                          ],
                          [
                            0.6666666666666666,
                            "#ed7953"
                          ],
                          [
                            0.7777777777777778,
                            "#fb9f3a"
                          ],
                          [
                            0.8888888888888888,
                            "#fdca26"
                          ],
                          [
                            1,
                            "#f0f921"
                          ]
                        ],
                        "type": "contour"
                      }
                    ],
                    "contourcarpet": [
                      {
                        "colorbar": {
                          "outlinewidth": 0,
                          "ticks": ""
                        },
                        "type": "contourcarpet"
                      }
                    ],
                    "heatmap": [
                      {
                        "colorbar": {
                          "outlinewidth": 0,
                          "ticks": ""
                        },
                        "colorscale": [
                          [
                            0,
                            "#0d0887"
                          ],
                          [
                            0.1111111111111111,
                            "#46039f"
                          ],
                          [
                            0.2222222222222222,
                            "#7201a8"
                          ],
                          [
                            0.3333333333333333,
                            "#9c179e"
                          ],
                          [
                            0.4444444444444444,
                            "#bd3786"
                          ],
                          [
                            0.5555555555555556,
                            "#d8576b"
                          ],
                          [
                            0.6666666666666666,
                            "#ed7953"
                          ],
                          [
                            0.7777777777777778,
                            "#fb9f3a"
                          ],
                          [
                            0.8888888888888888,
                            "#fdca26"
                          ],
                          [
                            1,
                            "#f0f921"
                          ]
                        ],
                        "type": "heatmap"
                      }
                    ],
                    "histogram": [
                      {
                        "marker": {
                          "pattern": {
                            "fillmode": "overlay",
                            "size": 10,
                            "solidity": 0.2
                          }
                        },
                        "type": "histogram"
                      }
                    ],
                    "histogram2d": [
                      {
                        "colorbar": {
                          "outlinewidth": 0,
                          "ticks": ""
                        },
                        "colorscale": [
                          [
                            0,
                            "#0d0887"
                          ],
                          [
                            0.1111111111111111,
                            "#46039f"
                          ],
                          [
                            0.2222222222222222,
                            "#7201a8"
                          ],
                          [
                            0.3333333333333333,
                            "#9c179e"
                          ],
                          [
                            0.4444444444444444,
                            "#bd3786"
                          ],
                          [
                            0.5555555555555556,
                            "#d8576b"
                          ],
                          [
                            0.6666666666666666,
                            "#ed7953"
                          ],
                          [
                            0.7777777777777778,
                            "#fb9f3a"
                          ],
                          [
                            0.8888888888888888,
                            "#fdca26"
                          ],
                          [
                            1,
                            "#f0f921"
                          ]
                        ],
                        "type": "histogram2d"
                      }
                    ],
                    "histogram2dcontour": [
                      {
                        "colorbar": {
                          "outlinewidth": 0,
                          "ticks": ""
                        },
                        "colorscale": [
                          [
                            0,
                            "#0d0887"
                          ],
                          [
                            0.1111111111111111,
                            "#46039f"
                          ],
                          [
                            0.2222222222222222,
                            "#7201a8"
                          ],
                          [
                            0.3333333333333333,
                            "#9c179e"
                          ],
                          [
                            0.4444444444444444,
                            "#bd3786"
                          ],
                          [
                            0.5555555555555556,
                            "#d8576b"
                          ],
                          [
                            0.6666666666666666,
                            "#ed7953"
                          ],
                          [
                            0.7777777777777778,
                            "#fb9f3a"
                          ],
                          [
                            0.8888888888888888,
                            "#fdca26"
                          ],
                          [
                            1,
                            "#f0f921"
                          ]
                        ],
                        "type": "histogram2dcontour"
                      }
                    ],
                    "mesh3d": [
                      {
                        "colorbar": {
                          "outlinewidth": 0,
                          "ticks": ""
                        },
                        "type": "mesh3d"
                      }
                    ],
                    "parcoords": [
                      {
                        "line": {
                          "colorbar": {
                            "outlinewidth": 0,
                            "ticks": ""
                          }
                        },
                        "type": "parcoords"
                      }
                    ],
                    "pie": [
                      {
                        "automargin": true,
                        "type": "pie"
                      }
                    ],
                    "scatter": [
                      {
                        "fillpattern": {
                          "fillmode": "overlay",
                          "size": 10,
                          "solidity": 0.2
                        },
                        "type": "scatter"
                      }
                    ],
                    "scatter3d": [
                      {
                        "line": {
                          "colorbar": {
                            "outlinewidth": 0,
                            "ticks": ""
                          }
                        },
                        "marker": {
                          "colorbar": {
                            "outlinewidth": 0,
                            "ticks": ""
                          }
                        },
                        "type": "scatter3d"
                      }
                    ],
                    "scattercarpet": [
                      {
                        "marker": {
                          "colorbar": {
                            "outlinewidth": 0,
                            "ticks": ""
                          }
                        },
                        "type": "scattercarpet"
                      }
                    ],
                    "scattergeo": [
                      {
                        "marker": {
                          "colorbar": {
                            "outlinewidth": 0,
                            "ticks": ""
                          }
                        },
                        "type": "scattergeo"
                      }
                    ],
                    "scattergl": [
                      {
                        "marker": {
                          "colorbar": {
                            "outlinewidth": 0,
                            "ticks": ""
                          }
                        },
                        "type": "scattergl"
                      }
                    ],
                    "scattermap": [
                      {
                        "marker": {
                          "colorbar": {
                            "outlinewidth": 0,
                            "ticks": ""
                          }
                        },
                        "type": "scattermap"
                      }
                    ],
                    "scattermapbox": [
                      {
                        "marker": {
                          "colorbar": {
                            "outlinewidth": 0,
                            "ticks": ""
                          }
                        },
                        "type": "scattermapbox"
                      }
                    ],
                    "scatterpolar": [
                      {
                        "marker": {
                          "colorbar": {
                            "outlinewidth": 0,
                            "ticks": ""
                          }
                        },
                        "type": "scatterpolar"
                      }
                    ],
                    "scatterpolargl": [
                      {
                        "marker": {
                          "colorbar": {
                            "outlinewidth": 0,
                            "ticks": ""
                          }
                        },
                        "type": "scatterpolargl"
                      }
                    ],
                    "scatterternary": [
                      {
                        "marker": {
                          "colorbar": {
                            "outlinewidth": 0,
                            "ticks": ""
                          }
                        },
                        "type": "scatterternary"
                      }
                    ],
                    "surface": [
                      {
                        "colorbar": {
                          "outlinewidth": 0,
                          "ticks": ""
                        },
                        "colorscale": [
                          [
                            0,
                            "#0d0887"
                          ],
                          [
                            0.1111111111111111,
                            "#46039f"
                          ],
                          [
                            0.2222222222222222,
                            "#7201a8"
                          ],
                          [
                            0.3333333333333333,
                            "#9c179e"
                          ],
                          [
                            0.4444444444444444,
                            "#bd3786"
                          ],
                          [
                            0.5555555555555556,
                            "#d8576b"
                          ],
                          [
                            0.6666666666666666,
                            "#ed7953"
                          ],
                          [
                            0.7777777777777778,
                            "#fb9f3a"
                          ],
                          [
                            0.8888888888888888,
                            "#fdca26"
                          ],
                          [
                            1,
                            "#f0f921"
                          ]
                        ],
                        "type": "surface"
                      }
                    ],
                    "table": [
                      {
                        "cells": {
                          "fill": {
                            "color": "#EBF0F8"
                          },
                          "line": {
                            "color": "white"
                          }
                        },
                        "header": {
                          "fill": {
                            "color": "#C8D4E3"
                          },
                          "line": {
                            "color": "white"
                          }
                        },
                        "type": "table"
                      }
                    ]
                  },
                  "layout": {
                    "annotationdefaults": {
                      "arrowcolor": "#2a3f5f",
                      "arrowhead": 0,
                      "arrowwidth": 1
                    },
                    "autotypenumbers": "strict",
                    "coloraxis": {
                      "colorbar": {
                        "outlinewidth": 0,
                        "ticks": ""
                      }
                    },
                    "colorscale": {
                      "diverging": [
                        [
                          0,
                          "#8e0152"
                        ],
                        [
                          0.1,
                          "#c51b7d"
                        ],
                        [
                          0.2,
                          "#de77ae"
                        ],
                        [
                          0.3,
                          "#f1b6da"
                        ],
                        [
                          0.4,
                          "#fde0ef"
                        ],
                        [
                          0.5,
                          "#f7f7f7"
                        ],
                        [
                          0.6,
                          "#e6f5d0"
                        ],
                        [
                          0.7,
                          "#b8e186"
                        ],
                        [
                          0.8,
                          "#7fbc41"
                        ],
                        [
                          0.9,
                          "#4d9221"
                        ],
                        [
                          1,
                          "#276419"
                        ]
                      ],
                      "sequential": [
                        [
                          0,
                          "#0d0887"
                        ],
                        [
                          0.1111111111111111,
                          "#46039f"
                        ],
                        [
                          0.2222222222222222,
                          "#7201a8"
                        ],
                        [
                          0.3333333333333333,
                          "#9c179e"
                        ],
                        [
                          0.4444444444444444,
                          "#bd3786"
                        ],
                        [
                          0.5555555555555556,
                          "#d8576b"
                        ],
                        [
                          0.6666666666666666,
                          "#ed7953"
                        ],
                        [
                          0.7777777777777778,
                          "#fb9f3a"
                        ],
                        [
                          0.8888888888888888,
                          "#fdca26"
                        ],
                        [
                          1,
                          "#f0f921"
                        ]
                      ],
                      "sequentialminus": [
                        [
                          0,
                          "#0d0887"
                        ],
                        [
                          0.1111111111111111,
                          "#46039f"
                        ],
                        [
                          0.2222222222222222,
                          "#7201a8"
                        ],
                        [
                          0.3333333333333333,
                          "#9c179e"
                        ],
                        [
                          0.4444444444444444,
                          "#bd3786"
                        ],
                        [
                          0.5555555555555556,
                          "#d8576b"
                        ],
                        [
                          0.6666666666666666,
                          "#ed7953"
                        ],
                        [
                          0.7777777777777778,
                          "#fb9f3a"
                        ],
                        [
                          0.8888888888888888,
                          "#fdca26"
                        ],
                        [
                          1,
                          "#f0f921"
                        ]
                      ]
                    },
                    "colorway": [
                      "#636efa",
                      "#EF553B",
                      "#00cc96",
                      "#ab63fa",
                      "#FFA15A",
                      "#19d3f3",
                      "#FF6692",
                      "#B6E880",
                      "#FF97FF",
                      "#FECB52"
                    ],
                    "font": {
                      "color": "#2a3f5f"
                    },
                    "geo": {
                      "bgcolor": "white",
                      "lakecolor": "white",
                      "landcolor": "#E5ECF6",
                      "showlakes": true,
                      "showland": true,
                      "subunitcolor": "white"
                    },
                    "hoverlabel": {
                      "align": "left"
                    },
                    "hovermode": "closest",
                    "mapbox": {
                      "style": "light"
                    },
                    "paper_bgcolor": "white",
                    "plot_bgcolor": "#E5ECF6",
                    "polar": {
                      "angularaxis": {
                        "gridcolor": "white",
                        "linecolor": "white",
                        "ticks": ""
                      },
                      "bgcolor": "#E5ECF6",
                      "radialaxis": {
                        "gridcolor": "white",
                        "linecolor": "white",
                        "ticks": ""
                      }
                    },
                    "scene": {
                      "xaxis": {
                        "backgroundcolor": "#E5ECF6",
                        "gridcolor": "white",
                        "gridwidth": 2,
                        "linecolor": "white",
                        "showbackground": true,
                        "ticks": "",
                        "zerolinecolor": "white"
                      },
                      "yaxis": {
                        "backgroundcolor": "#E5ECF6",
                        "gridcolor": "white",
                        "gridwidth": 2,
                        "linecolor": "white",
                        "showbackground": true,
                        "ticks": "",
                        "zerolinecolor": "white"
                      },
                      "zaxis": {
                        "backgroundcolor": "#E5ECF6",
                        "gridcolor": "white",
                        "gridwidth": 2,
                        "linecolor": "white",
                        "showbackground": true,
                        "ticks": "",
                        "zerolinecolor": "white"
                      }
                    },
                    "shapedefaults": {
                      "line": {
                        "color": "#2a3f5f"
                      }
                    },
                    "ternary": {
                      "aaxis": {
                        "gridcolor": "white",
                        "linecolor": "white",
                        "ticks": ""
                      },
                      "baxis": {
                        "gridcolor": "white",
                        "linecolor": "white",
                        "ticks": ""
                      },
                      "bgcolor": "#E5ECF6",
                      "caxis": {
                        "gridcolor": "white",
                        "linecolor": "white",
                        "ticks": ""
                      }
                    },
                    "title": {
                      "x": 0.05
                    },
                    "xaxis": {
                      "automargin": true,
                      "gridcolor": "white",
                      "linecolor": "white",
                      "ticks": "",
                      "title": {
                        "standoff": 15
                      },
                      "zerolinecolor": "white",
                      "zerolinewidth": 2
                    },
                    "yaxis": {
                      "automargin": true,
                      "gridcolor": "white",
                      "linecolor": "white",
                      "ticks": "",
                      "title": {
                        "standoff": 15
                      },
                      "zerolinecolor": "white",
                      "zerolinewidth": 2
                    }
                  }
                }
              }
            }
          },
          "metadata": {},
          "output_type": "display_data"
        }
      ],
      "source": [
        "# Subset the data to US States\n",
        "cars4 = cars[cars['country'] == ' usa']\n",
        "\n",
        "# Make a new df for state counts\n",
        "cars_state = cars4.groupby('state').size().reset_index()\n",
        "cars_state.columns = ['state', 'count']\n",
        "\n",
        "# Map state abbreviations to states\n",
        "import us\n",
        "state_map = {state.name.lower(): state.abbr for state in us.states.STATES}\n",
        "cars_state['state_abbr'] = cars_state['state'].map(state_map)\n",
        "\n",
        "# Visualize the state distribution on a map\n",
        "map = px.choropleth(cars_state, locations='state_abbr', locationmode='USA-states', color='count', scope='usa', color_continuous_scale='Oranges')\n",
        "map.show()\n"
      ]
    },
    {
      "cell_type": "code",
      "execution_count": 31,
      "metadata": {
        "colab": {
          "base_uri": "https://localhost:8080/",
          "height": 472
        },
        "id": "bL-golQL2i53",
        "outputId": "9f174586-e9ec-48bd-d7f8-27cf5e1ae53f"
      },
      "outputs": [
        {
          "data": {
            "image/png": "[encoded data removed]",
            "text/plain": [
              "<Figure size 640x480 with 1 Axes>"
            ]
          },
          "metadata": {},
          "output_type": "display_data"
        }
      ],
      "source": [
        "# Display the variety of represented car brands\n",
        "brand_counts = cars['brand'].value_counts()\n",
        "sns.barplot(brand_counts)\n",
        "plt.title('Car Brands')\n",
        "plt.xlabel(\"Brand\")\n",
        "plt.xticks(rotation=90)\n",
        "plt.show()"
      ]
    },
    {
      "cell_type": "code",
      "execution_count": 18,
      "metadata": {
        "colab": {
          "base_uri": "https://localhost:8080/",
          "height": 472
        },
        "id": "lztuGvwH2i53",
        "outputId": "8956d087-ed86-4f75-ecf2-2a8af8d25b35"
      },
      "outputs": [
        {
          "data": {
            "image/png": "[encoded data removed]",
            "text/plain": [
              "<Figure size 640x480 with 1 Axes>"
            ]
          },
          "metadata": {},
          "output_type": "display_data"
        }
      ],
      "source": [
        "# Year Distribution\n",
        "#cars['year'].value_counts()\n",
        "\n",
        "sns.histplot(cars['year'], bins=30, color='gold')\n",
        "plt.title(\"Year Distribution\")\n",
        "plt.show()"
      ]
    },
    {
      "cell_type": "markdown",
      "metadata": {
        "id": "GSuAzWwK2i53"
      },
      "source": [
        "Most of the cars are concentrated between 2010 and 2020. It may be more effective to remove the older cars from the data."
      ]
    },
    {
      "cell_type": "code",
      "execution_count": 19,
      "metadata": {
        "colab": {
          "base_uri": "https://localhost:8080/",
          "height": 1000
        },
        "id": "I3H9kkRY2i53",
        "outputId": "dadb5954-7f90-43bd-f0e9-05ae45681f19"
      },
      "outputs": [
        {
          "data": {
            "application/vnd.microsoft.datawrangler.viewer.v0+json": {
              "columns": [
                {
                  "name": "index",
                  "rawType": "int64",
                  "type": "integer"
                },
                {
                  "name": "Unnamed: 0",
                  "rawType": "int64",
                  "type": "integer"
                },
                {
                  "name": "price",
                  "rawType": "int64",
                  "type": "integer"
                },
                {
                  "name": "brand",
                  "rawType": "object",
                  "type": "string"
                },
                {
                  "name": "model",
                  "rawType": "object",
                  "type": "string"
                },
                {
                  "name": "year",
                  "rawType": "int64",
                  "type": "integer"
                },
                {
                  "name": "title_status",
                  "rawType": "object",
                  "type": "string"
                },
                {
                  "name": "mileage",
                  "rawType": "int64",
                  "type": "integer"
                },
                {
                  "name": "color",
                  "rawType": "object",
                  "type": "string"
                },
                {
                  "name": "vin",
                  "rawType": "object",
                  "type": "string"
                },
                {
                  "name": "lot",
                  "rawType": "int64",
                  "type": "integer"
                },
                {
                  "name": "state",
                  "rawType": "object",
                  "type": "string"
                },
                {
                  "name": "country",
                  "rawType": "object",
                  "type": "string"
                },
                {
                  "name": "condition",
                  "rawType": "object",
                  "type": "string"
                }
              ],
              "conversionMethod": "pd.DataFrame",
              "ref": "3c4e5ee0-99cc-47b7-900f-062d3deb4626",
              "rows": [
                [
                  "32",
                  "32",
                  "29800",
                  "chevrolet",
                  "camaro",
                  "1973",
                  "clean vehicle",
                  "46226",
                  "red",
                  "  1q87t3n166389",
                  "167763370",
                  "pennsylvania",
                  " usa",
                  "22 hours left"
                ],
                [
                  "405",
                  "405",
                  "25",
                  "ford",
                  "door",
                  "1984",
                  "salvage insurance",
                  "41577",
                  "white",
                  "  2ftcf15y9eca14589",
                  "167611661",
                  "arkansas",
                  " usa",
                  "17 hours left"
                ],
                [
                  "545",
                  "545",
                  "0",
                  "gmc",
                  "door",
                  "1993",
                  "salvage insurance",
                  "0",
                  "light blue",
                  "  1gkfk16k5pj701631",
                  "167358601",
                  "colorado",
                  " usa",
                  "18 hours left"
                ],
                [
                  "362",
                  "362",
                  "25",
                  "ford",
                  "pickup",
                  "1994",
                  "salvage insurance",
                  "206162",
                  "white",
                  "  1ftdf15y2rnb12612",
                  "167361489",
                  "georgia",
                  " usa",
                  "2 days left"
                ],
                [
                  "322",
                  "322",
                  "0",
                  "ford",
                  "chassis",
                  "1994",
                  "salvage insurance",
                  "0",
                  "green",
                  "  1fdee14n7rha47894",
                  "167359174",
                  "california",
                  " usa",
                  "19 hours left"
                ],
                [
                  "410",
                  "410",
                  "0",
                  "chevrolet",
                  "door",
                  "1995",
                  "salvage insurance",
                  "274706",
                  "green",
                  "  2gcec19h8s1195266",
                  "167425634",
                  "arizona",
                  " usa",
                  "2 days left"
                ],
                [
                  "496",
                  "496",
                  "0",
                  "ford",
                  "pickup",
                  "1996",
                  "salvage insurance",
                  "252588",
                  "red",
                  "  1ftef15n0tlc14455",
                  "167357804",
                  "oklahoma",
                  " usa",
                  "17 hours left"
                ],
                [
                  "330",
                  "330",
                  "0",
                  "ford",
                  "door",
                  "1996",
                  "salvage insurance",
                  "296860",
                  "green",
                  "  1falp62w5th144314",
                  "167359712",
                  "california",
                  " usa",
                  "19 hours left"
                ],
                [
                  "323",
                  "323",
                  "0",
                  "ford",
                  "door",
                  "1997",
                  "salvage insurance",
                  "203297",
                  "green",
                  "  1fmdu35p7vub38059",
                  "167610731",
                  "minnesota",
                  " usa",
                  "17 hours left"
                ],
                [
                  "370",
                  "370",
                  "0",
                  "ford",
                  "door",
                  "1997",
                  "salvage insurance",
                  "146912",
                  "green",
                  "  1ftdf18w8vna61251",
                  "167362449",
                  "wisconsin",
                  " usa",
                  "2 days left"
                ],
                [
                  "293",
                  "293",
                  "0",
                  "chevrolet",
                  "pickup",
                  "1998",
                  "salvage insurance",
                  "258631",
                  "gray",
                  "  1gccs1445wk226994",
                  "167417659",
                  "texas",
                  " usa",
                  "17 hours left"
                ],
                [
                  "395",
                  "395",
                  "25",
                  "ford",
                  "door",
                  "1998",
                  "salvage insurance",
                  "300021",
                  "brown",
                  "  1ftzx0766wka18481",
                  "167611660",
                  "arkansas",
                  " usa",
                  "17 hours left"
                ],
                [
                  "313",
                  "313",
                  "0",
                  "ford",
                  "van",
                  "1998",
                  "salvage insurance",
                  "186855",
                  "blue",
                  "  2fmda5143wba16791",
                  "167359170",
                  "california",
                  " usa",
                  "19 hours left"
                ],
                [
                  "371",
                  "371",
                  "0",
                  "ford",
                  "door",
                  "1998",
                  "salvage insurance",
                  "131367",
                  "white",
                  "  1ftrf18l7wka62471",
                  "167611301",
                  "illinois",
                  " usa",
                  "17 hours left"
                ],
                [
                  "398",
                  "398",
                  "25",
                  "jeep",
                  "door",
                  "1999",
                  "salvage insurance",
                  "226972",
                  "black",
                  "  1j4gw58s4xc558310",
                  "167246338",
                  "florida",
                  " usa",
                  "16 hours left"
                ],
                [
                  "391",
                  "391",
                  "0",
                  "cadillac",
                  "coupe",
                  "2000",
                  "salvage insurance",
                  "105169",
                  "white",
                  "  1g6el12y9yu148063",
                  "167651218",
                  "virginia",
                  " usa",
                  "9 days left"
                ],
                [
                  "421",
                  "421",
                  "0",
                  "bmw",
                  "door",
                  "2000",
                  "salvage insurance",
                  "216657",
                  "gray",
                  "  wbaam3346yfp77118",
                  "167425906",
                  "utah",
                  " usa",
                  "2 days left"
                ],
                [
                  "285",
                  "285",
                  "0",
                  "ford",
                  "door",
                  "2000",
                  "salvage insurance",
                  "124969",
                  "black",
                  "  1fafp34p7yw270338",
                  "167251902",
                  "oklahoma",
                  " usa",
                  "17 hours left"
                ],
                [
                  "188",
                  "188",
                  "175",
                  "chrysler",
                  "door",
                  "2000",
                  "salvage insurance",
                  "231240",
                  "red",
                  "  2c3hd46r3yh208325",
                  "167756464",
                  "north carolina",
                  " usa",
                  "3 days left"
                ],
                [
                  "363",
                  "363",
                  "950",
                  "ford",
                  "pk",
                  "2001",
                  "salvage insurance",
                  "229886",
                  "red",
                  "  1ftrx17w41nb80705",
                  "167611176",
                  "illinois",
                  " usa",
                  "17 hours left"
                ]
              ],
              "shape": {
                "columns": 13,
                "rows": 20
              }
            },
            "text/html": [
              "<div>\n",
              "<style scoped>\n",
              "    .dataframe tbody tr th:only-of-type {\n",
              "        vertical-align: middle;\n",
              "    }\n",
              "\n",
              "    .dataframe tbody tr th {\n",
              "        vertical-align: top;\n",
              "    }\n",
              "\n",
              "    .dataframe thead th {\n",
              "        text-align: right;\n",
              "    }\n",
              "</style>\n",
              "<table border=\"1\" class=\"dataframe\">\n",
              "  <thead>\n",
              "    <tr style=\"text-align: right;\">\n",
              "      <th></th>\n",
              "      <th>Unnamed: 0</th>\n",
              "      <th>price</th>\n",
              "      <th>brand</th>\n",
              "      <th>model</th>\n",
              "      <th>year</th>\n",
              "      <th>title_status</th>\n",
              "      <th>mileage</th>\n",
              "      <th>color</th>\n",
              "      <th>vin</th>\n",
              "      <th>lot</th>\n",
              "      <th>state</th>\n",
              "      <th>country</th>\n",
              "      <th>condition</th>\n",
              "    </tr>\n",
              "  </thead>\n",
              "  <tbody>\n",
              "    <tr>\n",
              "      <th>32</th>\n",
              "      <td>32</td>\n",
              "      <td>29800</td>\n",
              "      <td>chevrolet</td>\n",
              "      <td>camaro</td>\n",
              "      <td>1973</td>\n",
              "      <td>clean vehicle</td>\n",
              "      <td>46226</td>\n",
              "      <td>red</td>\n",
              "      <td>1q87t3n166389</td>\n",
              "      <td>167763370</td>\n",
              "      <td>pennsylvania</td>\n",
              "      <td>usa</td>\n",
              "      <td>22 hours left</td>\n",
              "    </tr>\n",
              "    <tr>\n",
              "      <th>405</th>\n",
              "      <td>405</td>\n",
              "      <td>25</td>\n",
              "      <td>ford</td>\n",
              "      <td>door</td>\n",
              "      <td>1984</td>\n",
              "      <td>salvage insurance</td>\n",
              "      <td>41577</td>\n",
              "      <td>white</td>\n",
              "      <td>2ftcf15y9eca14589</td>\n",
              "      <td>167611661</td>\n",
              "      <td>arkansas</td>\n",
              "      <td>usa</td>\n",
              "      <td>17 hours left</td>\n",
              "    </tr>\n",
              "    <tr>\n",
              "      <th>545</th>\n",
              "      <td>545</td>\n",
              "      <td>0</td>\n",
              "      <td>gmc</td>\n",
              "      <td>door</td>\n",
              "      <td>1993</td>\n",
              "      <td>salvage insurance</td>\n",
              "      <td>0</td>\n",
              "      <td>light blue</td>\n",
              "      <td>1gkfk16k5pj701631</td>\n",
              "      <td>167358601</td>\n",
              "      <td>colorado</td>\n",
              "      <td>usa</td>\n",
              "      <td>18 hours left</td>\n",
              "    </tr>\n",
              "    <tr>\n",
              "      <th>362</th>\n",
              "      <td>362</td>\n",
              "      <td>25</td>\n",
              "      <td>ford</td>\n",
              "      <td>pickup</td>\n",
              "      <td>1994</td>\n",
              "      <td>salvage insurance</td>\n",
              "      <td>206162</td>\n",
              "      <td>white</td>\n",
              "      <td>1ftdf15y2rnb12612</td>\n",
              "      <td>167361489</td>\n",
              "      <td>georgia</td>\n",
              "      <td>usa</td>\n",
              "      <td>2 days left</td>\n",
              "    </tr>\n",
              "    <tr>\n",
              "      <th>322</th>\n",
              "      <td>322</td>\n",
              "      <td>0</td>\n",
              "      <td>ford</td>\n",
              "      <td>chassis</td>\n",
              "      <td>1994</td>\n",
              "      <td>salvage insurance</td>\n",
              "      <td>0</td>\n",
              "      <td>green</td>\n",
              "      <td>1fdee14n7rha47894</td>\n",
              "      <td>167359174</td>\n",
              "      <td>california</td>\n",
              "      <td>usa</td>\n",
              "      <td>19 hours left</td>\n",
              "    </tr>\n",
              "    <tr>\n",
              "      <th>410</th>\n",
              "      <td>410</td>\n",
              "      <td>0</td>\n",
              "      <td>chevrolet</td>\n",
              "      <td>door</td>\n",
              "      <td>1995</td>\n",
              "      <td>salvage insurance</td>\n",
              "      <td>274706</td>\n",
              "      <td>green</td>\n",
              "      <td>2gcec19h8s1195266</td>\n",
              "      <td>167425634</td>\n",
              "      <td>arizona</td>\n",
              "      <td>usa</td>\n",
              "      <td>2 days left</td>\n",
              "    </tr>\n",
              "    <tr>\n",
              "      <th>496</th>\n",
              "      <td>496</td>\n",
              "      <td>0</td>\n",
              "      <td>ford</td>\n",
              "      <td>pickup</td>\n",
              "      <td>1996</td>\n",
              "      <td>salvage insurance</td>\n",
              "      <td>252588</td>\n",
              "      <td>red</td>\n",
              "      <td>1ftef15n0tlc14455</td>\n",
              "      <td>167357804</td>\n",
              "      <td>oklahoma</td>\n",
              "      <td>usa</td>\n",
              "      <td>17 hours left</td>\n",
              "    </tr>\n",
              "    <tr>\n",
              "      <th>330</th>\n",
              "      <td>330</td>\n",
              "      <td>0</td>\n",
              "      <td>ford</td>\n",
              "      <td>door</td>\n",
              "      <td>1996</td>\n",
              "      <td>salvage insurance</td>\n",
              "      <td>296860</td>\n",
              "      <td>green</td>\n",
              "      <td>1falp62w5th144314</td>\n",
              "      <td>167359712</td>\n",
              "      <td>california</td>\n",
              "      <td>usa</td>\n",
              "      <td>19 hours left</td>\n",
              "    </tr>\n",
              "    <tr>\n",
              "      <th>323</th>\n",
              "      <td>323</td>\n",
              "      <td>0</td>\n",
              "      <td>ford</td>\n",
              "      <td>door</td>\n",
              "      <td>1997</td>\n",
              "      <td>salvage insurance</td>\n",
              "      <td>203297</td>\n",
              "      <td>green</td>\n",
              "      <td>1fmdu35p7vub38059</td>\n",
              "      <td>167610731</td>\n",
              "      <td>minnesota</td>\n",
              "      <td>usa</td>\n",
              "      <td>17 hours left</td>\n",
              "    </tr>\n",
              "    <tr>\n",
              "      <th>370</th>\n",
              "      <td>370</td>\n",
              "      <td>0</td>\n",
              "      <td>ford</td>\n",
              "      <td>door</td>\n",
              "      <td>1997</td>\n",
              "      <td>salvage insurance</td>\n",
              "      <td>146912</td>\n",
              "      <td>green</td>\n",
              "      <td>1ftdf18w8vna61251</td>\n",
              "      <td>167362449</td>\n",
              "      <td>wisconsin</td>\n",
              "      <td>usa</td>\n",
              "      <td>2 days left</td>\n",
              "    </tr>\n",
              "    <tr>\n",
              "      <th>293</th>\n",
              "      <td>293</td>\n",
              "      <td>0</td>\n",
              "      <td>chevrolet</td>\n",
              "      <td>pickup</td>\n",
              "      <td>1998</td>\n",
              "      <td>salvage insurance</td>\n",
              "      <td>258631</td>\n",
              "      <td>gray</td>\n",
              "      <td>1gccs1445wk226994</td>\n",
              "      <td>167417659</td>\n",
              "      <td>texas</td>\n",
              "      <td>usa</td>\n",
              "      <td>17 hours left</td>\n",
              "    </tr>\n",
              "    <tr>\n",
              "      <th>395</th>\n",
              "      <td>395</td>\n",
              "      <td>25</td>\n",
              "      <td>ford</td>\n",
              "      <td>door</td>\n",
              "      <td>1998</td>\n",
              "      <td>salvage insurance</td>\n",
              "      <td>300021</td>\n",
              "      <td>brown</td>\n",
              "      <td>1ftzx0766wka18481</td>\n",
              "      <td>167611660</td>\n",
              "      <td>arkansas</td>\n",
              "      <td>usa</td>\n",
              "      <td>17 hours left</td>\n",
              "    </tr>\n",
              "    <tr>\n",
              "      <th>313</th>\n",
              "      <td>313</td>\n",
              "      <td>0</td>\n",
              "      <td>ford</td>\n",
              "      <td>van</td>\n",
              "      <td>1998</td>\n",
              "      <td>salvage insurance</td>\n",
              "      <td>186855</td>\n",
              "      <td>blue</td>\n",
              "      <td>2fmda5143wba16791</td>\n",
              "      <td>167359170</td>\n",
              "      <td>california</td>\n",
              "      <td>usa</td>\n",
              "      <td>19 hours left</td>\n",
              "    </tr>\n",
              "    <tr>\n",
              "      <th>371</th>\n",
              "      <td>371</td>\n",
              "      <td>0</td>\n",
              "      <td>ford</td>\n",
              "      <td>door</td>\n",
              "      <td>1998</td>\n",
              "      <td>salvage insurance</td>\n",
              "      <td>131367</td>\n",
              "      <td>white</td>\n",
              "      <td>1ftrf18l7wka62471</td>\n",
              "      <td>167611301</td>\n",
              "      <td>illinois</td>\n",
              "      <td>usa</td>\n",
              "      <td>17 hours left</td>\n",
              "    </tr>\n",
              "    <tr>\n",
              "      <th>398</th>\n",
              "      <td>398</td>\n",
              "      <td>25</td>\n",
              "      <td>jeep</td>\n",
              "      <td>door</td>\n",
              "      <td>1999</td>\n",
              "      <td>salvage insurance</td>\n",
              "      <td>226972</td>\n",
              "      <td>black</td>\n",
              "      <td>1j4gw58s4xc558310</td>\n",
              "      <td>167246338</td>\n",
              "      <td>florida</td>\n",
              "      <td>usa</td>\n",
              "      <td>16 hours left</td>\n",
              "    </tr>\n",
              "    <tr>\n",
              "      <th>391</th>\n",
              "      <td>391</td>\n",
              "      <td>0</td>\n",
              "      <td>cadillac</td>\n",
              "      <td>coupe</td>\n",
              "      <td>2000</td>\n",
              "      <td>salvage insurance</td>\n",
              "      <td>105169</td>\n",
              "      <td>white</td>\n",
              "      <td>1g6el12y9yu148063</td>\n",
              "      <td>167651218</td>\n",
              "      <td>virginia</td>\n",
              "      <td>usa</td>\n",
              "      <td>9 days left</td>\n",
              "    </tr>\n",
              "    <tr>\n",
              "      <th>421</th>\n",
              "      <td>421</td>\n",
              "      <td>0</td>\n",
              "      <td>bmw</td>\n",
              "      <td>door</td>\n",
              "      <td>2000</td>\n",
              "      <td>salvage insurance</td>\n",
              "      <td>216657</td>\n",
              "      <td>gray</td>\n",
              "      <td>wbaam3346yfp77118</td>\n",
              "      <td>167425906</td>\n",
              "      <td>utah</td>\n",
              "      <td>usa</td>\n",
              "      <td>2 days left</td>\n",
              "    </tr>\n",
              "    <tr>\n",
              "      <th>285</th>\n",
              "      <td>285</td>\n",
              "      <td>0</td>\n",
              "      <td>ford</td>\n",
              "      <td>door</td>\n",
              "      <td>2000</td>\n",
              "      <td>salvage insurance</td>\n",
              "      <td>124969</td>\n",
              "      <td>black</td>\n",
              "      <td>1fafp34p7yw270338</td>\n",
              "      <td>167251902</td>\n",
              "      <td>oklahoma</td>\n",
              "      <td>usa</td>\n",
              "      <td>17 hours left</td>\n",
              "    </tr>\n",
              "    <tr>\n",
              "      <th>188</th>\n",
              "      <td>188</td>\n",
              "      <td>175</td>\n",
              "      <td>chrysler</td>\n",
              "      <td>door</td>\n",
              "      <td>2000</td>\n",
              "      <td>salvage insurance</td>\n",
              "      <td>231240</td>\n",
              "      <td>red</td>\n",
              "      <td>2c3hd46r3yh208325</td>\n",
              "      <td>167756464</td>\n",
              "      <td>north carolina</td>\n",
              "      <td>usa</td>\n",
              "      <td>3 days left</td>\n",
              "    </tr>\n",
              "    <tr>\n",
              "      <th>363</th>\n",
              "      <td>363</td>\n",
              "      <td>950</td>\n",
              "      <td>ford</td>\n",
              "      <td>pk</td>\n",
              "      <td>2001</td>\n",
              "      <td>salvage insurance</td>\n",
              "      <td>229886</td>\n",
              "      <td>red</td>\n",
              "      <td>1ftrx17w41nb80705</td>\n",
              "      <td>167611176</td>\n",
              "      <td>illinois</td>\n",
              "      <td>usa</td>\n",
              "      <td>17 hours left</td>\n",
              "    </tr>\n",
              "  </tbody>\n",
              "</table>\n",
              "</div>"
            ],
            "text/plain": [
              "     Unnamed: 0  price      brand    model  year       title_status  mileage  \\\n",
              "32           32  29800  chevrolet   camaro  1973      clean vehicle    46226   \n",
              "405         405     25       ford     door  1984  salvage insurance    41577   \n",
              "545         545      0        gmc     door  1993  salvage insurance        0   \n",
              "362         362     25       ford   pickup  1994  salvage insurance   206162   \n",
              "322         322      0       ford  chassis  1994  salvage insurance        0   \n",
              "410         410      0  chevrolet     door  1995  salvage insurance   274706   \n",
              "496         496      0       ford   pickup  1996  salvage insurance   252588   \n",
              "330         330      0       ford     door  1996  salvage insurance   296860   \n",
              "323         323      0       ford     door  1997  salvage insurance   203297   \n",
              "370         370      0       ford     door  1997  salvage insurance   146912   \n",
              "293         293      0  chevrolet   pickup  1998  salvage insurance   258631   \n",
              "395         395     25       ford     door  1998  salvage insurance   300021   \n",
              "313         313      0       ford      van  1998  salvage insurance   186855   \n",
              "371         371      0       ford     door  1998  salvage insurance   131367   \n",
              "398         398     25       jeep     door  1999  salvage insurance   226972   \n",
              "391         391      0   cadillac    coupe  2000  salvage insurance   105169   \n",
              "421         421      0        bmw     door  2000  salvage insurance   216657   \n",
              "285         285      0       ford     door  2000  salvage insurance   124969   \n",
              "188         188    175   chrysler     door  2000  salvage insurance   231240   \n",
              "363         363    950       ford       pk  2001  salvage insurance   229886   \n",
              "\n",
              "          color                  vin        lot           state country  \\\n",
              "32          red        1q87t3n166389  167763370    pennsylvania     usa   \n",
              "405       white    2ftcf15y9eca14589  167611661        arkansas     usa   \n",
              "545  light blue    1gkfk16k5pj701631  167358601        colorado     usa   \n",
              "362       white    1ftdf15y2rnb12612  167361489         georgia     usa   \n",
              "322       green    1fdee14n7rha47894  167359174      california     usa   \n",
              "410       green    2gcec19h8s1195266  167425634         arizona     usa   \n",
              "496         red    1ftef15n0tlc14455  167357804        oklahoma     usa   \n",
              "330       green    1falp62w5th144314  167359712      california     usa   \n",
              "323       green    1fmdu35p7vub38059  167610731       minnesota     usa   \n",
              "370       green    1ftdf18w8vna61251  167362449       wisconsin     usa   \n",
              "293        gray    1gccs1445wk226994  167417659           texas     usa   \n",
              "395       brown    1ftzx0766wka18481  167611660        arkansas     usa   \n",
              "313        blue    2fmda5143wba16791  167359170      california     usa   \n",
              "371       white    1ftrf18l7wka62471  167611301        illinois     usa   \n",
              "398       black    1j4gw58s4xc558310  167246338         florida     usa   \n",
              "391       white    1g6el12y9yu148063  167651218        virginia     usa   \n",
              "421        gray    wbaam3346yfp77118  167425906            utah     usa   \n",
              "285       black    1fafp34p7yw270338  167251902        oklahoma     usa   \n",
              "188         red    2c3hd46r3yh208325  167756464  north carolina     usa   \n",
              "363         red    1ftrx17w41nb80705  167611176        illinois     usa   \n",
              "\n",
              "         condition  \n",
              "32   22 hours left  \n",
              "405  17 hours left  \n",
              "545  18 hours left  \n",
              "362    2 days left  \n",
              "322  19 hours left  \n",
              "410    2 days left  \n",
              "496  17 hours left  \n",
              "330  19 hours left  \n",
              "323  17 hours left  \n",
              "370    2 days left  \n",
              "293  17 hours left  \n",
              "395  17 hours left  \n",
              "313  19 hours left  \n",
              "371  17 hours left  \n",
              "398  16 hours left  \n",
              "391    9 days left  \n",
              "421    2 days left  \n",
              "285  17 hours left  \n",
              "188    3 days left  \n",
              "363  17 hours left  "
            ]
          },
          "execution_count": 19,
          "metadata": {},
          "output_type": "execute_result"
        }
      ],
      "source": [
        "# Analyze the older cars\n",
        "cars5 = cars.sort_values(by='year')\n",
        "cars5.head(20)"
      ]
    },
    {
      "cell_type": "markdown",
      "metadata": {
        "id": "_y8Q1Y7h2i54"
      },
      "source": [
        "There are only 15 cars with a year before 200."
      ]
    },
    {
      "cell_type": "code",
      "execution_count": 20,
      "metadata": {
        "colab": {
          "base_uri": "https://localhost:8080/",
          "height": 472
        },
        "id": "seQZbbU_2i54",
        "outputId": "5ab1c24d-ef85-4f5d-8ae2-9bec4c5ac959"
      },
      "outputs": [
        {
          "data": {
            "image/png": "[encoded data removed]",
            "text/plain": [
              "<Figure size 640x480 with 1 Axes>"
            ]
          },
          "metadata": {},
          "output_type": "display_data"
        }
      ],
      "source": [
        "# Remove entries with cars older than 2000\n",
        "cars5 = cars[cars['year'] >= 2000]\n",
        "\n",
        "# Plot the new distribution\n",
        "sns.histplot(cars5['year'], bins=15, color='gold')\n",
        "plt.title(\"Year Distribution\")\n",
        "plt.xticks(ticks=[2000, 2005, 2010, 2015, 2020])\n",
        "plt.show()"
      ]
    },
    {
      "cell_type": "markdown",
      "metadata": {
        "id": "28efgF4w2i54"
      },
      "source": [
        "This data is still strongly skewed to the left. I will try removing all cars older than 2010."
      ]
    },
    {
      "cell_type": "code",
      "execution_count": 21,
      "metadata": {
        "colab": {
          "base_uri": "https://localhost:8080/",
          "height": 472
        },
        "id": "5J9e8Amj2i54",
        "outputId": "ccf2f992-0183-4aee-f119-c8453de331ed"
      },
      "outputs": [
        {
          "data": {
            "image/png": "[encoded data removed]",
            "text/plain": [
              "<Figure size 640x480 with 1 Axes>"
            ]
          },
          "metadata": {},
          "output_type": "display_data"
        }
      ],
      "source": [
        "# Remove entries with cars older than 2010\n",
        "cars6 = cars[cars['year'] >= 2010]\n",
        "\n",
        "# Plot the new distribution\n",
        "sns.histplot(cars6['year'], bins = 10, color='gold')\n",
        "plt.title(\"Year Distribution\")\n",
        "plt.xticks(ticks=[2010, 2015, 2020])\n",
        "plt.show()"
      ]
    },
    {
      "cell_type": "code",
      "execution_count": 22,
      "metadata": {
        "colab": {
          "base_uri": "https://localhost:8080/",
          "height": 1000
        },
        "id": "ldB8SooX2i54",
        "outputId": "5060a737-587b-4cde-9bbd-e3e236829d18"
      },
      "outputs": [
        {
          "data": {
            "text/plain": [
              "color\n",
              "white                                      707\n",
              "black                                      516\n",
              "gray                                       395\n",
              "silver                                     300\n",
              "red                                        192\n",
              "blue                                       151\n",
              "no_color                                    61\n",
              "green                                       24\n",
              "orange                                      20\n",
              "gold                                        19\n",
              "charcoal                                    18\n",
              "brown                                       15\n",
              "yellow                                       9\n",
              "magnetic metallic                            6\n",
              "shadow black                                 5\n",
              "color:                                       5\n",
              "beige                                        5\n",
              "oxford white                                 4\n",
              "ingot silver metallic                        4\n",
              "super black                                  3\n",
              "billet silver metallic clearcoat             3\n",
              "triple yellow tri-coat                       3\n",
              "cayenne red                                  2\n",
              "white platinum tri-coat metallic             2\n",
              "off-white                                    2\n",
              "ruby red metallic tinted clearcoat           2\n",
              "tuxedo black metallic                        2\n",
              "black clearcoat                              2\n",
              "bright white clearcoat                       2\n",
              "morningsky blue                              1\n",
              "guard                                        1\n",
              "pearl white                                  1\n",
              "tan                                          1\n",
              "burgundy                                     1\n",
              "ingot silver                                 1\n",
              "lightning blue                               1\n",
              "jazz blue pearlcoat                          1\n",
              "kona blue metallic                           1\n",
              "royal crimson metallic tinted clearcoat      1\n",
              "ruby red                                     1\n",
              "competition orange                           1\n",
              "purple                                       1\n",
              "toreador red                                 1\n",
              "light blue                                   1\n",
              "phantom black                                1\n",
              "maroon                                       1\n",
              "dark blue                                    1\n",
              "turquoise                                    1\n",
              "glacier white                                1\n",
              "Name: count, dtype: int64"
            ]
          },
          "execution_count": 22,
          "metadata": {},
          "output_type": "execute_result"
        }
      ],
      "source": [
        "# Analyze color\n",
        "cars['color'].value_counts()"
      ]
    },
    {
      "cell_type": "code",
      "execution_count": 23,
      "metadata": {
        "colab": {
          "base_uri": "https://localhost:8080/",
          "height": 472
        },
        "id": "HWxJfYc22i54",
        "outputId": "270ac13d-dcab-4135-ca5a-f412e0c914e2"
      },
      "outputs": [
        {
          "data": {
            "image/png": "[encoded data removed]",
            "text/plain": [
              "<Figure size 640x480 with 1 Axes>"
            ]
          },
          "metadata": {},
          "output_type": "display_data"
        }
      ],
      "source": [
        "# Consolidate color variable\n",
        "car_colors = ['white', 'black', 'gray', 'silver', 'red', 'blue']\n",
        "\n",
        "# Turn miscellaneous car colors into 'other'\n",
        "cars['color'] = cars['color'].apply(lambda x: x if x in car_colors else 'other')\n",
        "\n",
        "# View counts of different colors\n",
        "sns.countplot(cars, x='color')\n",
        "plt.title('Color Counts')\n",
        "plt.show()"
      ]
    },
    {
      "cell_type": "code",
      "execution_count": 24,
      "metadata": {
        "colab": {
          "base_uri": "https://localhost:8080/",
          "height": 1000
        },
        "id": "BLB0fZy02i55",
        "outputId": "5d7b690d-5bef-42b7-e8d1-c7291a9b6778"
      },
      "outputs": [
        {
          "data": {
            "text/plain": [
              "condition\n",
              "2 days left        832\n",
              "21 hours left      492\n",
              "3 days left        137\n",
              "14 hours left      108\n",
              "1 days left         91\n",
              "8 days left         82\n",
              "17 hours left       76\n",
              "20 hours left       67\n",
              "9 days left         58\n",
              "22 hours left       57\n",
              "6 days left         52\n",
              "18 hours left       48\n",
              "19 hours left       45\n",
              "7 days left         43\n",
              "11 days left        42\n",
              "16 hours left       36\n",
              "2 hours left        26\n",
              "10 days left        23\n",
              "Listing Expired     20\n",
              "29 minutes          18\n",
              "23 hours left       16\n",
              "4 days left         16\n",
              "5 hours left        16\n",
              "1 minutes           15\n",
              "6 hours left        12\n",
              "24 hours left        9\n",
              "12 days left         8\n",
              "15 hours left        8\n",
              "34 minutes           7\n",
              "7 hours left         7\n",
              "5 days left          6\n",
              "15 days left         4\n",
              "1 hours left         3\n",
              "9 minutes            3\n",
              "48 minutes           2\n",
              "3 hours left         2\n",
              "47 minutes           2\n",
              "13 days left         1\n",
              "16 minutes           1\n",
              "53 minutes           1\n",
              "27 minutes           1\n",
              "30 minutes           1\n",
              "32 minutes           1\n",
              "28 minutes           1\n",
              "4 hours left         1\n",
              "12 hours left        1\n",
              "36 minutes           1\n",
              "Name: count, dtype: int64"
            ]
          },
          "execution_count": 24,
          "metadata": {},
          "output_type": "execute_result"
        }
      ],
      "source": [
        "# Condition Variable\n",
        "cars['condition'].value_counts()"
      ]
    },
    {
      "cell_type": "code",
      "execution_count": 25,
      "metadata": {
        "colab": {
          "base_uri": "https://localhost:8080/",
          "height": 275
        },
        "id": "KiT48W7a3QoX",
        "outputId": "e9f61846-c782-450e-cb7f-889767206ec8"
      },
      "outputs": [
        {
          "data": {
            "application/vnd.microsoft.datawrangler.viewer.v0+json": {
              "columns": [
                {
                  "name": "index",
                  "rawType": "int64",
                  "type": "integer"
                },
                {
                  "name": "Unnamed: 0",
                  "rawType": "int64",
                  "type": "integer"
                },
                {
                  "name": "price",
                  "rawType": "int64",
                  "type": "integer"
                },
                {
                  "name": "brand",
                  "rawType": "object",
                  "type": "string"
                },
                {
                  "name": "model",
                  "rawType": "object",
                  "type": "string"
                },
                {
                  "name": "year",
                  "rawType": "int64",
                  "type": "integer"
                },
                {
                  "name": "title_status",
                  "rawType": "object",
                  "type": "string"
                },
                {
                  "name": "mileage",
                  "rawType": "int64",
                  "type": "integer"
                },
                {
                  "name": "color",
                  "rawType": "object",
                  "type": "string"
                },
                {
                  "name": "vin",
                  "rawType": "object",
                  "type": "string"
                },
                {
                  "name": "lot",
                  "rawType": "int64",
                  "type": "integer"
                },
                {
                  "name": "state",
                  "rawType": "object",
                  "type": "string"
                },
                {
                  "name": "country",
                  "rawType": "object",
                  "type": "string"
                },
                {
                  "name": "condition",
                  "rawType": "object",
                  "type": "string"
                }
              ],
              "conversionMethod": "pd.DataFrame",
              "ref": "021a15fc-0891-42c9-a097-cea62367a0a2",
              "rows": [
                [
                  "1",
                  "1",
                  "2899",
                  "ford",
                  "se",
                  "2011",
                  "clean vehicle",
                  "190552",
                  "silver",
                  "  2fmdk3gc4bbb02217",
                  "166951262",
                  "tennessee",
                  " usa",
                  "6 days left"
                ],
                [
                  "3",
                  "3",
                  "25000",
                  "ford",
                  "door",
                  "2014",
                  "clean vehicle",
                  "64146",
                  "blue",
                  "  1ftfw1et4efc23745",
                  "167753855",
                  "virginia",
                  " usa",
                  "22 hours left"
                ],
                [
                  "9",
                  "9",
                  "5250",
                  "ford",
                  "mpv",
                  "2017",
                  "clean vehicle",
                  "63418",
                  "black",
                  "  2fmpk3j92hbc12542",
                  "167656121",
                  "texas",
                  " usa",
                  "2 days left"
                ],
                [
                  "14",
                  "14",
                  "20700",
                  "ford",
                  "door",
                  "2013",
                  "clean vehicle",
                  "100757",
                  "black",
                  "  1ftfw1et7dfa47790",
                  "167753916",
                  "virginia",
                  " usa",
                  "22 hours left"
                ],
                [
                  "18",
                  "18",
                  "5210",
                  "ford",
                  "mpv",
                  "2017",
                  "clean vehicle",
                  "35714",
                  "white",
                  "  2fmpk3j95hbb73607",
                  "167656124",
                  "texas",
                  " usa",
                  "2 days left"
                ]
              ],
              "shape": {
                "columns": 13,
                "rows": 5
              }
            },
            "text/html": [
              "<div>\n",
              "<style scoped>\n",
              "    .dataframe tbody tr th:only-of-type {\n",
              "        vertical-align: middle;\n",
              "    }\n",
              "\n",
              "    .dataframe tbody tr th {\n",
              "        vertical-align: top;\n",
              "    }\n",
              "\n",
              "    .dataframe thead th {\n",
              "        text-align: right;\n",
              "    }\n",
              "</style>\n",
              "<table border=\"1\" class=\"dataframe\">\n",
              "  <thead>\n",
              "    <tr style=\"text-align: right;\">\n",
              "      <th></th>\n",
              "      <th>Unnamed: 0</th>\n",
              "      <th>price</th>\n",
              "      <th>brand</th>\n",
              "      <th>model</th>\n",
              "      <th>year</th>\n",
              "      <th>title_status</th>\n",
              "      <th>mileage</th>\n",
              "      <th>color</th>\n",
              "      <th>vin</th>\n",
              "      <th>lot</th>\n",
              "      <th>state</th>\n",
              "      <th>country</th>\n",
              "      <th>condition</th>\n",
              "    </tr>\n",
              "  </thead>\n",
              "  <tbody>\n",
              "    <tr>\n",
              "      <th>1</th>\n",
              "      <td>1</td>\n",
              "      <td>2899</td>\n",
              "      <td>ford</td>\n",
              "      <td>se</td>\n",
              "      <td>2011</td>\n",
              "      <td>clean vehicle</td>\n",
              "      <td>190552</td>\n",
              "      <td>silver</td>\n",
              "      <td>2fmdk3gc4bbb02217</td>\n",
              "      <td>166951262</td>\n",
              "      <td>tennessee</td>\n",
              "      <td>usa</td>\n",
              "      <td>6 days left</td>\n",
              "    </tr>\n",
              "    <tr>\n",
              "      <th>3</th>\n",
              "      <td>3</td>\n",
              "      <td>25000</td>\n",
              "      <td>ford</td>\n",
              "      <td>door</td>\n",
              "      <td>2014</td>\n",
              "      <td>clean vehicle</td>\n",
              "      <td>64146</td>\n",
              "      <td>blue</td>\n",
              "      <td>1ftfw1et4efc23745</td>\n",
              "      <td>167753855</td>\n",
              "      <td>virginia</td>\n",
              "      <td>usa</td>\n",
              "      <td>22 hours left</td>\n",
              "    </tr>\n",
              "    <tr>\n",
              "      <th>9</th>\n",
              "      <td>9</td>\n",
              "      <td>5250</td>\n",
              "      <td>ford</td>\n",
              "      <td>mpv</td>\n",
              "      <td>2017</td>\n",
              "      <td>clean vehicle</td>\n",
              "      <td>63418</td>\n",
              "      <td>black</td>\n",
              "      <td>2fmpk3j92hbc12542</td>\n",
              "      <td>167656121</td>\n",
              "      <td>texas</td>\n",
              "      <td>usa</td>\n",
              "      <td>2 days left</td>\n",
              "    </tr>\n",
              "    <tr>\n",
              "      <th>14</th>\n",
              "      <td>14</td>\n",
              "      <td>20700</td>\n",
              "      <td>ford</td>\n",
              "      <td>door</td>\n",
              "      <td>2013</td>\n",
              "      <td>clean vehicle</td>\n",
              "      <td>100757</td>\n",
              "      <td>black</td>\n",
              "      <td>1ftfw1et7dfa47790</td>\n",
              "      <td>167753916</td>\n",
              "      <td>virginia</td>\n",
              "      <td>usa</td>\n",
              "      <td>22 hours left</td>\n",
              "    </tr>\n",
              "    <tr>\n",
              "      <th>18</th>\n",
              "      <td>18</td>\n",
              "      <td>5210</td>\n",
              "      <td>ford</td>\n",
              "      <td>mpv</td>\n",
              "      <td>2017</td>\n",
              "      <td>clean vehicle</td>\n",
              "      <td>35714</td>\n",
              "      <td>white</td>\n",
              "      <td>2fmpk3j95hbb73607</td>\n",
              "      <td>167656124</td>\n",
              "      <td>texas</td>\n",
              "      <td>usa</td>\n",
              "      <td>2 days left</td>\n",
              "    </tr>\n",
              "  </tbody>\n",
              "</table>\n",
              "</div>"
            ],
            "text/plain": [
              "    Unnamed: 0  price brand model  year   title_status  mileage   color  \\\n",
              "1            1   2899  ford    se  2011  clean vehicle   190552  silver   \n",
              "3            3  25000  ford  door  2014  clean vehicle    64146    blue   \n",
              "9            9   5250  ford   mpv  2017  clean vehicle    63418   black   \n",
              "14          14  20700  ford  door  2013  clean vehicle   100757   black   \n",
              "18          18   5210  ford   mpv  2017  clean vehicle    35714   white   \n",
              "\n",
              "                    vin        lot      state country      condition  \n",
              "1     2fmdk3gc4bbb02217  166951262  tennessee     usa    6 days left  \n",
              "3     1ftfw1et4efc23745  167753855   virginia     usa  22 hours left  \n",
              "9     2fmpk3j92hbc12542  167656121      texas     usa    2 days left  \n",
              "14    1ftfw1et7dfa47790  167753916   virginia     usa  22 hours left  \n",
              "18    2fmpk3j95hbb73607  167656124      texas     usa    2 days left  "
            ]
          },
          "execution_count": 25,
          "metadata": {},
          "output_type": "execute_result"
        }
      ],
      "source": [
        "# Look specifically at ford cars\n",
        "ford_df = cars[cars['brand'] == 'ford'].copy()\n",
        "ford_df.head()"
      ]
    },
    {
      "cell_type": "code",
      "execution_count": 26,
      "metadata": {
        "colab": {
          "base_uri": "https://localhost:8080/",
          "height": 427
        },
        "id": "s8CxH4Fr37Xv",
        "outputId": "02655bf2-4803-408d-efb8-69a1c10572d9"
      },
      "outputs": [
        {
          "data": {
            "application/vnd.microsoft.datawrangler.viewer.v0+json": {
              "columns": [
                {
                  "name": "index",
                  "rawType": "object",
                  "type": "string"
                },
                {
                  "name": "Unnamed: 0",
                  "rawType": "float64",
                  "type": "float"
                },
                {
                  "name": "price",
                  "rawType": "float64",
                  "type": "float"
                },
                {
                  "name": "brand",
                  "rawType": "object",
                  "type": "unknown"
                },
                {
                  "name": "model",
                  "rawType": "object",
                  "type": "unknown"
                },
                {
                  "name": "year",
                  "rawType": "float64",
                  "type": "float"
                },
                {
                  "name": "title_status",
                  "rawType": "object",
                  "type": "unknown"
                },
                {
                  "name": "mileage",
                  "rawType": "float64",
                  "type": "float"
                },
                {
                  "name": "color",
                  "rawType": "object",
                  "type": "unknown"
                },
                {
                  "name": "vin",
                  "rawType": "object",
                  "type": "unknown"
                },
                {
                  "name": "lot",
                  "rawType": "float64",
                  "type": "float"
                },
                {
                  "name": "state",
                  "rawType": "object",
                  "type": "unknown"
                },
                {
                  "name": "country",
                  "rawType": "object",
                  "type": "unknown"
                },
                {
                  "name": "condition",
                  "rawType": "object",
                  "type": "unknown"
                }
              ],
              "conversionMethod": "pd.DataFrame",
              "ref": "9e118929-0c57-49a9-9654-8203fcc341c7",
              "rows": [
                [
                  "count",
                  "1235.0",
                  "1235.0",
                  "1235",
                  "1235",
                  "1235.0",
                  "1235",
                  "1235.0",
                  "1235",
                  "1235",
                  "1235.0",
                  "1235",
                  "1235",
                  "1235"
                ],
                [
                  "unique",
                  null,
                  null,
                  "1",
                  "40",
                  null,
                  "2",
                  null,
                  "7",
                  "1235",
                  null,
                  "39",
                  "1",
                  "41"
                ],
                [
                  "top",
                  null,
                  null,
                  "ford",
                  "door",
                  null,
                  "clean vehicle",
                  null,
                  "white",
                  "  2fmdk3gc4bbb02217",
                  null,
                  "pennsylvania",
                  " usa",
                  "2 days left"
                ],
                [
                  "freq",
                  null,
                  null,
                  "1235",
                  "363",
                  null,
                  "1162",
                  null,
                  "406",
                  "1",
                  null,
                  "191",
                  "1235",
                  "432"
                ],
                [
                  "mean",
                  "1443.9514170040486",
                  "21666.888259109313",
                  null,
                  null,
                  "2016.7627530364373",
                  null,
                  "52084.3044534413",
                  null,
                  null,
                  "167705260.55384615",
                  null,
                  null,
                  null
                ],
                [
                  "std",
                  "603.7110618997684",
                  "12945.547175374155",
                  null,
                  null,
                  "3.310937456262761",
                  null,
                  "54948.4940629171",
                  null,
                  null,
                  "98290.57893329902",
                  null,
                  null,
                  null
                ],
                [
                  "min",
                  "1.0",
                  "0.0",
                  null,
                  null,
                  "1984.0",
                  null,
                  "0.0",
                  null,
                  null,
                  "166951262.0",
                  null,
                  null,
                  null
                ],
                [
                  "25%",
                  "1277.5",
                  "12530.0",
                  null,
                  null,
                  "2016.0",
                  null,
                  "18878.5",
                  null,
                  null,
                  "167641316.0",
                  null,
                  null,
                  null
                ],
                [
                  "50%",
                  "1586.0",
                  "22000.0",
                  null,
                  null,
                  "2018.0",
                  null,
                  "34277.0",
                  null,
                  null,
                  "167745157.0",
                  null,
                  null,
                  null
                ],
                [
                  "75%",
                  "1894.5",
                  "28500.0",
                  null,
                  null,
                  "2019.0",
                  null,
                  "68542.0",
                  null,
                  null,
                  "167780468.0",
                  null,
                  null,
                  null
                ],
                [
                  "max",
                  "2203.0",
                  "74000.0",
                  null,
                  null,
                  "2020.0",
                  null,
                  "999999.0",
                  null,
                  null,
                  "167802381.0",
                  null,
                  null,
                  null
                ]
              ],
              "shape": {
                "columns": 13,
                "rows": 11
              }
            },
            "text/html": [
              "<div>\n",
              "<style scoped>\n",
              "    .dataframe tbody tr th:only-of-type {\n",
              "        vertical-align: middle;\n",
              "    }\n",
              "\n",
              "    .dataframe tbody tr th {\n",
              "        vertical-align: top;\n",
              "    }\n",
              "\n",
              "    .dataframe thead th {\n",
              "        text-align: right;\n",
              "    }\n",
              "</style>\n",
              "<table border=\"1\" class=\"dataframe\">\n",
              "  <thead>\n",
              "    <tr style=\"text-align: right;\">\n",
              "      <th></th>\n",
              "      <th>Unnamed: 0</th>\n",
              "      <th>price</th>\n",
              "      <th>brand</th>\n",
              "      <th>model</th>\n",
              "      <th>year</th>\n",
              "      <th>title_status</th>\n",
              "      <th>mileage</th>\n",
              "      <th>color</th>\n",
              "      <th>vin</th>\n",
              "      <th>lot</th>\n",
              "      <th>state</th>\n",
              "      <th>country</th>\n",
              "      <th>condition</th>\n",
              "    </tr>\n",
              "  </thead>\n",
              "  <tbody>\n",
              "    <tr>\n",
              "      <th>count</th>\n",
              "      <td>1235.000000</td>\n",
              "      <td>1235.000000</td>\n",
              "      <td>1235</td>\n",
              "      <td>1235</td>\n",
              "      <td>1235.000000</td>\n",
              "      <td>1235</td>\n",
              "      <td>1235.000000</td>\n",
              "      <td>1235</td>\n",
              "      <td>1235</td>\n",
              "      <td>1.235000e+03</td>\n",
              "      <td>1235</td>\n",
              "      <td>1235</td>\n",
              "      <td>1235</td>\n",
              "    </tr>\n",
              "    <tr>\n",
              "      <th>unique</th>\n",
              "      <td>NaN</td>\n",
              "      <td>NaN</td>\n",
              "      <td>1</td>\n",
              "      <td>40</td>\n",
              "      <td>NaN</td>\n",
              "      <td>2</td>\n",
              "      <td>NaN</td>\n",
              "      <td>7</td>\n",
              "      <td>1235</td>\n",
              "      <td>NaN</td>\n",
              "      <td>39</td>\n",
              "      <td>1</td>\n",
              "      <td>41</td>\n",
              "    </tr>\n",
              "    <tr>\n",
              "      <th>top</th>\n",
              "      <td>NaN</td>\n",
              "      <td>NaN</td>\n",
              "      <td>ford</td>\n",
              "      <td>door</td>\n",
              "      <td>NaN</td>\n",
              "      <td>clean vehicle</td>\n",
              "      <td>NaN</td>\n",
              "      <td>white</td>\n",
              "      <td>2fmdk3gc4bbb02217</td>\n",
              "      <td>NaN</td>\n",
              "      <td>pennsylvania</td>\n",
              "      <td>usa</td>\n",
              "      <td>2 days left</td>\n",
              "    </tr>\n",
              "    <tr>\n",
              "      <th>freq</th>\n",
              "      <td>NaN</td>\n",
              "      <td>NaN</td>\n",
              "      <td>1235</td>\n",
              "      <td>363</td>\n",
              "      <td>NaN</td>\n",
              "      <td>1162</td>\n",
              "      <td>NaN</td>\n",
              "      <td>406</td>\n",
              "      <td>1</td>\n",
              "      <td>NaN</td>\n",
              "      <td>191</td>\n",
              "      <td>1235</td>\n",
              "      <td>432</td>\n",
              "    </tr>\n",
              "    <tr>\n",
              "      <th>mean</th>\n",
              "      <td>1443.951417</td>\n",
              "      <td>21666.888259</td>\n",
              "      <td>NaN</td>\n",
              "      <td>NaN</td>\n",
              "      <td>2016.762753</td>\n",
              "      <td>NaN</td>\n",
              "      <td>52084.304453</td>\n",
              "      <td>NaN</td>\n",
              "      <td>NaN</td>\n",
              "      <td>1.677053e+08</td>\n",
              "      <td>NaN</td>\n",
              "      <td>NaN</td>\n",
              "      <td>NaN</td>\n",
              "    </tr>\n",
              "    <tr>\n",
              "      <th>std</th>\n",
              "      <td>603.711062</td>\n",
              "      <td>12945.547175</td>\n",
              "      <td>NaN</td>\n",
              "      <td>NaN</td>\n",
              "      <td>3.310937</td>\n",
              "      <td>NaN</td>\n",
              "      <td>54948.494063</td>\n",
              "      <td>NaN</td>\n",
              "      <td>NaN</td>\n",
              "      <td>9.829058e+04</td>\n",
              "      <td>NaN</td>\n",
              "      <td>NaN</td>\n",
              "      <td>NaN</td>\n",
              "    </tr>\n",
              "    <tr>\n",
              "      <th>min</th>\n",
              "      <td>1.000000</td>\n",
              "      <td>0.000000</td>\n",
              "      <td>NaN</td>\n",
              "      <td>NaN</td>\n",
              "      <td>1984.000000</td>\n",
              "      <td>NaN</td>\n",
              "      <td>0.000000</td>\n",
              "      <td>NaN</td>\n",
              "      <td>NaN</td>\n",
              "      <td>1.669513e+08</td>\n",
              "      <td>NaN</td>\n",
              "      <td>NaN</td>\n",
              "      <td>NaN</td>\n",
              "    </tr>\n",
              "    <tr>\n",
              "      <th>25%</th>\n",
              "      <td>1277.500000</td>\n",
              "      <td>12530.000000</td>\n",
              "      <td>NaN</td>\n",
              "      <td>NaN</td>\n",
              "      <td>2016.000000</td>\n",
              "      <td>NaN</td>\n",
              "      <td>18878.500000</td>\n",
              "      <td>NaN</td>\n",
              "      <td>NaN</td>\n",
              "      <td>1.676413e+08</td>\n",
              "      <td>NaN</td>\n",
              "      <td>NaN</td>\n",
              "      <td>NaN</td>\n",
              "    </tr>\n",
              "    <tr>\n",
              "      <th>50%</th>\n",
              "      <td>1586.000000</td>\n",
              "      <td>22000.000000</td>\n",
              "      <td>NaN</td>\n",
              "      <td>NaN</td>\n",
              "      <td>2018.000000</td>\n",
              "      <td>NaN</td>\n",
              "      <td>34277.000000</td>\n",
              "      <td>NaN</td>\n",
              "      <td>NaN</td>\n",
              "      <td>1.677452e+08</td>\n",
              "      <td>NaN</td>\n",
              "      <td>NaN</td>\n",
              "      <td>NaN</td>\n",
              "    </tr>\n",
              "    <tr>\n",
              "      <th>75%</th>\n",
              "      <td>1894.500000</td>\n",
              "      <td>28500.000000</td>\n",
              "      <td>NaN</td>\n",
              "      <td>NaN</td>\n",
              "      <td>2019.000000</td>\n",
              "      <td>NaN</td>\n",
              "      <td>68542.000000</td>\n",
              "      <td>NaN</td>\n",
              "      <td>NaN</td>\n",
              "      <td>1.677805e+08</td>\n",
              "      <td>NaN</td>\n",
              "      <td>NaN</td>\n",
              "      <td>NaN</td>\n",
              "    </tr>\n",
              "    <tr>\n",
              "      <th>max</th>\n",
              "      <td>2203.000000</td>\n",
              "      <td>74000.000000</td>\n",
              "      <td>NaN</td>\n",
              "      <td>NaN</td>\n",
              "      <td>2020.000000</td>\n",
              "      <td>NaN</td>\n",
              "      <td>999999.000000</td>\n",
              "      <td>NaN</td>\n",
              "      <td>NaN</td>\n",
              "      <td>1.678024e+08</td>\n",
              "      <td>NaN</td>\n",
              "      <td>NaN</td>\n",
              "      <td>NaN</td>\n",
              "    </tr>\n",
              "  </tbody>\n",
              "</table>\n",
              "</div>"
            ],
            "text/plain": [
              "         Unnamed: 0         price brand model         year   title_status  \\\n",
              "count   1235.000000   1235.000000  1235  1235  1235.000000           1235   \n",
              "unique          NaN           NaN     1    40          NaN              2   \n",
              "top             NaN           NaN  ford  door          NaN  clean vehicle   \n",
              "freq            NaN           NaN  1235   363          NaN           1162   \n",
              "mean    1443.951417  21666.888259   NaN   NaN  2016.762753            NaN   \n",
              "std      603.711062  12945.547175   NaN   NaN     3.310937            NaN   \n",
              "min        1.000000      0.000000   NaN   NaN  1984.000000            NaN   \n",
              "25%     1277.500000  12530.000000   NaN   NaN  2016.000000            NaN   \n",
              "50%     1586.000000  22000.000000   NaN   NaN  2018.000000            NaN   \n",
              "75%     1894.500000  28500.000000   NaN   NaN  2019.000000            NaN   \n",
              "max     2203.000000  74000.000000   NaN   NaN  2020.000000            NaN   \n",
              "\n",
              "              mileage  color                  vin           lot         state  \\\n",
              "count     1235.000000   1235                 1235  1.235000e+03          1235   \n",
              "unique            NaN      7                 1235           NaN            39   \n",
              "top               NaN  white    2fmdk3gc4bbb02217           NaN  pennsylvania   \n",
              "freq              NaN    406                    1           NaN           191   \n",
              "mean     52084.304453    NaN                  NaN  1.677053e+08           NaN   \n",
              "std      54948.494063    NaN                  NaN  9.829058e+04           NaN   \n",
              "min          0.000000    NaN                  NaN  1.669513e+08           NaN   \n",
              "25%      18878.500000    NaN                  NaN  1.676413e+08           NaN   \n",
              "50%      34277.000000    NaN                  NaN  1.677452e+08           NaN   \n",
              "75%      68542.000000    NaN                  NaN  1.677805e+08           NaN   \n",
              "max     999999.000000    NaN                  NaN  1.678024e+08           NaN   \n",
              "\n",
              "       country    condition  \n",
              "count     1235         1235  \n",
              "unique       1           41  \n",
              "top        usa  2 days left  \n",
              "freq      1235          432  \n",
              "mean       NaN          NaN  \n",
              "std        NaN          NaN  \n",
              "min        NaN          NaN  \n",
              "25%        NaN          NaN  \n",
              "50%        NaN          NaN  \n",
              "75%        NaN          NaN  \n",
              "max        NaN          NaN  "
            ]
          },
          "execution_count": 26,
          "metadata": {},
          "output_type": "execute_result"
        }
      ],
      "source": [
        "ford_df.describe(include='all')"
      ]
    },
    {
      "cell_type": "code",
      "execution_count": 27,
      "metadata": {
        "colab": {
          "base_uri": "https://localhost:8080/",
          "height": 564
        },
        "id": "VAGKYA-R39QS",
        "outputId": "91390117-6814-467c-bec3-2de1fe63d538"
      },
      "outputs": [
        {
          "data": {
            "image/png": "[encoded data removed]",
            "text/plain": [
              "<Figure size 800x600 with 1 Axes>"
            ]
          },
          "metadata": {},
          "output_type": "display_data"
        }
      ],
      "source": [
        "# Plot price and mileage for ford vehicles\n",
        "plt.figure(figsize=(8, 6))\n",
        "plt.scatter(ford_df['mileage'], ford_df['price'], alpha=0.5)\n",
        "plt.title('Ford Cars: Price vs. Mileage')\n",
        "plt.xlabel('Mileage')\n",
        "plt.ylabel('Price')\n",
        "plt.grid(True)\n",
        "plt.show()"
      ]
    },
    {
      "cell_type": "code",
      "execution_count": 28,
      "metadata": {
        "colab": {
          "base_uri": "https://localhost:8080/",
          "height": 472
        },
        "id": "nrsLSgCr4AFq",
        "outputId": "30b21249-7d3d-4b83-de19-3c69ac0b7c84"
      },
      "outputs": [
        {
          "data": {
            "image/png": "[encoded data removed]",
            "text/plain": [
              "<Figure size 640x480 with 1 Axes>"
            ]
          },
          "metadata": {},
          "output_type": "display_data"
        }
      ],
      "source": [
        "# Plot the price distribution of ford vehicles\n",
        "ford_df['price'].hist(bins=30)\n",
        "plt.title('Distribution of Ford Car Prices')\n",
        "plt.xlabel('Price')\n",
        "plt.ylabel('Frequency')\n",
        "plt.show()"
      ]
    },
    {
      "cell_type": "code",
      "execution_count": 29,
      "metadata": {
        "colab": {
          "base_uri": "https://localhost:8080/",
          "height": 1000
        },
        "id": "ZMnzn9aC4OI-",
        "outputId": "39ef91ab-1aa7-4fb8-c1d1-e458e6cdd16a"
      },
      "outputs": [
        {
          "data": {
            "text/plain": [
              "model\n",
              "door           363\n",
              "f-150          219\n",
              "doors           97\n",
              "fusion          65\n",
              "transit         41\n",
              "max             41\n",
              "escape          39\n",
              "explorer        39\n",
              "srw             38\n",
              "edge            34\n",
              "flex            33\n",
              "mustang         29\n",
              "wagon           28\n",
              "expedition      28\n",
              "mpv             22\n",
              "fiesta          14\n",
              "van             12\n",
              "taurus          10\n",
              "cutaway         10\n",
              "drw             10\n",
              "focus            9\n",
              "ecosport         7\n",
              "pickup           6\n",
              "ranger           6\n",
              "cab              5\n",
              "hybrid           5\n",
              "chassis          4\n",
              "f-650            3\n",
              "el               3\n",
              "pk               3\n",
              "bus              2\n",
              "d                2\n",
              "cargo            1\n",
              "energi           1\n",
              "f-750            1\n",
              "dr               1\n",
              "convertible      1\n",
              "suv              1\n",
              "connect          1\n",
              "se               1\n",
              "Name: count, dtype: int64"
            ]
          },
          "execution_count": 29,
          "metadata": {},
          "output_type": "execute_result"
        }
      ],
      "source": [
        "# Identify all the available models under the ford brand\n",
        "ford_df['model'].value_counts()"
      ]
    }
  ],
  "metadata": {
    "colab": {
      "provenance": []
    },
    "kernelspec": {
      "display_name": ".venv",
      "language": "python",
      "name": "python3"
    },
    "language_info": {
      "codemirror_mode": {
        "name": "ipython",
        "version": 3
      },
      "file_extension": ".py",
      "mimetype": "text/x-python",
      "name": "python",
      "nbconvert_exporter": "python",
      "pygments_lexer": "ipython3",
      "version": "3.13.0"
    }
  },
  "nbformat": 4,
  "nbformat_minor": 0
}
